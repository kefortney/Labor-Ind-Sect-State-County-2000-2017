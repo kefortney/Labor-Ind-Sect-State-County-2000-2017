{
 "cells": [
  {
   "cell_type": "code",
   "execution_count": 1,
   "metadata": {
    "collapsed": true
   },
   "outputs": [],
   "source": [
    "import requests\n",
    "import pandas as pd\n",
    "import os \n",
    "import glob\n",
    "import numpy as np"
   ]
  },
  {
   "cell_type": "markdown",
   "metadata": {},
   "source": [
    "## Introduction and Instructions\n",
    "\n",
    "These series of Jupyter notebooks were made to take the state and county labor statistics documents from the Vermont Department of Labor, clean and transform them into a Tidy format for large data analysis and conversion to geospatial datasets to be posted on the Open Data Portal. \n",
    "\n",
    "Each notebook is numbered to show the sequence of steps. For this notebook the focus is downloading and adding all the data into Vermont and County datasets with all years. The first step below is setting the year of the file you are adding, this must be changed every time to reflect the next year.\n",
    "\n",
    "There is also a section half way down that will raise an exception if the year being run already exists in the cumlative csv file. "
   ]
  },
  {
   "cell_type": "code",
   "execution_count": 2,
   "metadata": {
    "collapsed": true
   },
   "outputs": [],
   "source": [
    "year = '2017'"
   ]
  },
  {
   "cell_type": "markdown",
   "metadata": {},
   "source": [
    "## The Data\n",
    "\n",
    "All the data below was downloaded from the Vermont Department of Labor here: http://www.vtlmi.info/indnaics.htm#mqa Below is the Year To Date table for State and County with Industry sectors. The next section can uncommented be run the very first time to automatically pull the speadsheets to your local drive. "
   ]
  },
  {
   "cell_type": "code",
   "execution_count": 3,
   "metadata": {
    "collapsed": true
   },
   "outputs": [],
   "source": [
    "# List of direct urls of excell files on the http://www.vtlmi.info/indnaics.htm#mqa site, add additional years if they are there\n",
    "urllist = [\"http://www.vtlmi.info/public/qcew/vtqcewytd_cty2017.xls\",\n",
    "           \"http://www.vtlmi.info/public/qcew/vtqcewytd_cty2016.xls\",\n",
    "           \"http://www.vtlmi.info/public/qcew/vtqcewytd_cty2015.xls\",\n",
    "           \"http://www.vtlmi.info/public/qcew/vtqcewytd_cty2014.xls\",\n",
    "           \"http://www.vtlmi.info/public/qcew/vtqcewytd_cty2013.xls\",\n",
    "           \"http://www.vtlmi.info/public/qcew/vtqcewytd_cty2012.xls\",\n",
    "           \"http://www.vtlmi.info/public/qcew/vtqcewytd_cty2011.xls\",\n",
    "           \"http://www.vtlmi.info/public/qcew/vtqcewytd_cty2010.xls\",\n",
    "           \"http://www.vtlmi.info/public/qcew/vtqcewytd_cty2009.xls\",\n",
    "           \"http://www.vtlmi.info/public/qcew/vtqcewytd_cty2008.xls\",\n",
    "           \"http://www.vtlmi.info/public/qcew/vtqcewytd_cty2007.xls\",\n",
    "           \"http://www.vtlmi.info/public/qcew/vtqcewytd_cty2006.xls\",\n",
    "           \"http://www.vtlmi.info/public/qcew/vtqcewytd_cty2005.xls\",\n",
    "           \"http://www.vtlmi.info/public/qcew/vtqcewytd_cty2004.xls\",\n",
    "           \"http://www.vtlmi.info/public/qcew/vtqcewytd_cty2003.xls\",\n",
    "           \"http://www.vtlmi.info/public/qcew/vtqcewytd_cty2002.xls\",\n",
    "           \"http://www.vtlmi.info/public/qcew/vtqcewytd_cty2001.xls\",\n",
    "           \"http://www.vtlmi.info/public/qcew/vtqcewytd_cty2000.xls\"\n",
    "          ]\n",
    "\n",
    "# This is to pull all the files\n",
    "#for x in urllist:\n",
    "#    resp = requests.get(x)\n",
    "#    output = open(x[-11:], 'wb')\n",
    "#    output.write(resp.content)\n",
    "#    output.close()"
   ]
  },
  {
   "cell_type": "code",
   "execution_count": 4,
   "metadata": {},
   "outputs": [
    {
     "data": {
      "text/plain": [
       "['.\\\\cty2000.xls',\n",
       " '.\\\\cty2001.xls',\n",
       " '.\\\\cty2002.xls',\n",
       " '.\\\\cty2003.xls',\n",
       " '.\\\\cty2004.xls',\n",
       " '.\\\\cty2005.xls',\n",
       " '.\\\\cty2006.xls',\n",
       " '.\\\\cty2007.xls',\n",
       " '.\\\\cty2008.xls',\n",
       " '.\\\\cty2009.xls',\n",
       " '.\\\\cty2010.xls',\n",
       " '.\\\\cty2011.xls',\n",
       " '.\\\\cty2012.xls',\n",
       " '.\\\\cty2013.xls',\n",
       " '.\\\\cty2014.xls',\n",
       " '.\\\\cty2015.xls',\n",
       " '.\\\\cty2016.xls',\n",
       " '.\\\\cty2017.xls']"
      ]
     },
     "execution_count": 4,
     "metadata": {},
     "output_type": "execute_result"
    }
   ],
   "source": [
    "# Lists what files are currently in the local folder\n",
    "glob.glob('./*.xls')\n",
    "doclist = glob.glob('./*.xls')\n",
    "doclist"
   ]
  },
  {
   "cell_type": "markdown",
   "metadata": {},
   "source": [
    "## Running Dataset\n",
    "\n",
    "In order to add all the years to one file a CSV for county and for state are saved to the local drive, this checks if it has already been created (which it would if it was the second or more time). If you need to restart everything, delete the local CSV files and restart at the first year."
   ]
  },
  {
   "cell_type": "code",
   "execution_count": 5,
   "metadata": {
    "collapsed": true
   },
   "outputs": [],
   "source": [
    "# Imports the running dataset which the year selected will be added\n",
    "if os.path.isfile('cumllaborvt.csv'):\n",
    "    cumllaborvt = pd.read_csv(\"cumllaborvt.csv\")\n",
    "else:\n",
    "    cumllaborvt =  pd.DataFrame()\n",
    "    \n",
    "if os.path.isfile('cumllaborcnty.csv'):\n",
    "    cumllaborcnty = pd.read_csv(\"cumllaborcnty.csv\")\n",
    "else:\n",
    "    cumllaborcnty =  pd.DataFrame()"
   ]
  },
  {
   "cell_type": "code",
   "execution_count": 6,
   "metadata": {},
   "outputs": [
    {
     "name": "stdout",
     "output_type": "stream",
     "text": [
      "This year has not been run yet\n"
     ]
    }
   ],
   "source": [
    "# This checks if the year already exists and stops the kernel if it does\n",
    "\n",
    "yeartest = pd.to_numeric(year) \n",
    "\n",
    "if cumllaborvt.empty:\n",
    "    print(\"This is the first time the data has been run\")\n",
    "elif yeartest not in list(cumllaborcnty['Year']):\n",
    "    print(\"This year has not been run yet\")    \n",
    "elif yeartest in list(cumllaborcnty['Year']):\n",
    "    raise Exception(\"This year already exists\")\n",
    "else:\n",
    "    print(\"Check if your data is valid\")"
   ]
  },
  {
   "cell_type": "code",
   "execution_count": 7,
   "metadata": {},
   "outputs": [
    {
     "name": "stdout",
     "output_type": "stream",
     "text": [
      "['County Areas', 'Vermont', 'Addison', 'Bennington', 'Caledonia', 'Chittenden', 'Essex', 'Franklin', 'Grand Isle', 'Lamoille', 'Orange', 'Orleans', 'Rutland', 'Washington', 'Windham', 'Windsor', 'All Other']\n"
     ]
    }
   ],
   "source": [
    "# Imports excel file and gives list of sheets\n",
    "data = pd.ExcelFile('cty'+year+'.xls')\n",
    "colList = data.sheet_names\n",
    "\n",
    "print(colList)"
   ]
  },
  {
   "cell_type": "code",
   "execution_count": 8,
   "metadata": {
    "collapsed": true
   },
   "outputs": [],
   "source": [
    "# creates a dictionary of sheet names and blank value where the data will be placed\n",
    "locations = {'Vermont':None, 'Addison':None, 'Bennington':None, 'Caledonia':None, 'Chittenden':None, \n",
    "             'Essex':None, 'Franklin':None, 'Grand Isle':None, 'Lamoille':None, 'Orange':None, 'Orleans':None,\n",
    "             'Rutland':None, 'Washington':None, 'Windham':None, 'Windsor':None, 'All Other':None}\n",
    "\n",
    "# Parses each sheet in the spreadsheet into the dictionary value\n",
    "for item in locations.keys():\n",
    "    locations[item] = data.parse(item, skiprows=6)"
   ]
  },
  {
   "cell_type": "code",
   "execution_count": 9,
   "metadata": {
    "collapsed": true
   },
   "outputs": [],
   "source": [
    "# Takes the county name from the first row of each data set and adds it as a column value for all rows for when it is added together\n",
    "for item in locations.values():\n",
    "    item['County'] = item.iloc[0,0]"
   ]
  },
  {
   "cell_type": "code",
   "execution_count": 10,
   "metadata": {
    "collapsed": true
   },
   "outputs": [],
   "source": [
    "# Takes all the data in the dictionary and appends them together as a list of dataframes\n",
    "datalist = []\n",
    "\n",
    "for item in locations.values():\n",
    "    datalist.append(item)"
   ]
  },
  {
   "cell_type": "code",
   "execution_count": 11,
   "metadata": {
    "collapsed": true
   },
   "outputs": [],
   "source": [
    "# Appends everything together in a single large dataframe\n",
    "cumlative = pd.concat(datalist)"
   ]
  },
  {
   "cell_type": "code",
   "execution_count": 12,
   "metadata": {},
   "outputs": [
    {
     "data": {
      "text/plain": [
       "Index(['Unnamed: 0', 'Jan', 'Feb', 'Mar', 'Apr', 'May', 'Jun', 'Jul', 'Aug',\n",
       "       'Sep', 'Oct', 'Nov', 'Dec', 'Qtr 1', 'Qtr 2', 'Qtr 3', 'Qtr 4',\n",
       "       'Annual', 'Qtr 1.1', 'Qtr 2.1', 'Qtr 3.1', 'Qtr 4.1', 'Annual.1',\n",
       "       'Qtr 1.2', 'Qtr 2.2', 'Qtr 3.2', 'Qtr 4.2', 'Annual.2', 'Qtr 1.3',\n",
       "       'Qtr 2.3', 'Qtr 3.3', 'Qtr 4.3', 'Annual.3', 'County'],\n",
       "      dtype='object')"
      ]
     },
     "execution_count": 12,
     "metadata": {},
     "output_type": "execute_result"
    }
   ],
   "source": [
    "# View column names before renaming them\n",
    "cumlative.columns"
   ]
  },
  {
   "cell_type": "markdown",
   "metadata": {},
   "source": [
    "## Female Employment\n",
    "\n",
    "The count of female employment stopped as of 2016. As this changes the number of columns the code below inserts NaN columns in order to append it all together successfully."
   ]
  },
  {
   "cell_type": "code",
   "execution_count": 13,
   "metadata": {},
   "outputs": [
    {
     "data": {
      "text/plain": [
       "Index(['Type', 'Jan', 'Feb', 'Mar', 'Apr', 'May', 'Jun', 'Jul', 'Aug', 'Sep',\n",
       "       'Oct', 'Nov', 'Dec', 'Average Employment Qtr 1',\n",
       "       'Average Employment Qtr 2', 'Average Employment Qtr 3',\n",
       "       'Average Employment Qtr 4', 'Average Employment Annual',\n",
       "       'Total Wages Qtr 1', 'Total Wages Qtr 2', 'Total Wages Qtr 3',\n",
       "       'Total Wages Qtr 4', 'Total Wages Annual', 'Average Wage Qtr 1',\n",
       "       'Average Wage Qtr 2', 'Average Wage Qtr 3', 'Average Wage Qtr 4',\n",
       "       'Average Wage Annual', 'Number of Establishments Qtr 1',\n",
       "       'Number of Establishments Qtr 2', 'Number of Establishments Qtr 3',\n",
       "       'Number of Establishments Qtr 4', 'Number of Establishments Annual',\n",
       "       'County', 'Average Female Employment Qtr 1',\n",
       "       'Average Female Employment Qtr 2', 'Average Female Employment Qtr 3',\n",
       "       'Average Female Employment Qtr 4', 'Average Female Employment Annual'],\n",
       "      dtype='object')"
      ]
     },
     "execution_count": 13,
     "metadata": {},
     "output_type": "execute_result"
    }
   ],
   "source": [
    "collist1 = ['Type', 'Jan', 'Feb', 'Mar', 'Apr', 'May', 'Jun', 'Jul', 'Aug','Sep', 'Oct', 'Nov', 'Dec', \n",
    "           'Average Employment Qtr 1', 'Average Employment Qtr 2', 'Average Employment Qtr 3', 'Average Employment Qtr 4', 'Average Employment Annual',\n",
    "           'Average Female Employment Qtr 1', 'Average Female Employment Qtr 2', 'Average Female Employment Qtr 3', 'Average Female Employment Qtr 4', 'Average Female Employment Annual',\n",
    "           'Total Wages Qtr 1', 'Total Wages Qtr 2', 'Total Wages Qtr 3', 'Total Wages Qtr 4', 'Total Wages Annual',\n",
    "           'Average Wage Qtr 1','Average Wage Qtr 2', 'Average Wage Qtr 3', 'Average Wage Qtr 4', 'Average Wage Annual',\n",
    "           'Number of Establishments Qtr 1', 'Number of Establishments Qtr 2', 'Number of Establishments Qtr 3', 'Number of Establishments Qtr 4', 'Number of Establishments Annual','County']\n",
    "\n",
    "collist2 = ['Type', 'Jan', 'Feb', 'Mar', 'Apr', 'May', 'Jun', 'Jul', 'Aug','Sep', 'Oct', 'Nov', 'Dec', \n",
    "              'Average Employment Qtr 1', 'Average Employment Qtr 2', 'Average Employment Qtr 3', 'Average Employment Qtr 4', 'Average Employment Annual',\n",
    "              'Total Wages Qtr 1', 'Total Wages Qtr 2', 'Total Wages Qtr 3', 'Total Wages Qtr 4', 'Total Wages Annual',\n",
    "              'Average Wage Qtr 1','Average Wage Qtr 2', 'Average Wage Qtr 3', 'Average Wage Qtr 4', 'Average Wage Annual',\n",
    "              'Number of Establishments Qtr 1', 'Number of Establishments Qtr 2', 'Number of Establishments Qtr 3', 'Number of Establishments Qtr 4', 'Number of Establishments Annual','County']\n",
    "\n",
    "def changeheader(data):\n",
    "    if len(data.columns) == 39:\n",
    "        data.columns = collist1\n",
    "    elif len(data.columns) == 34:\n",
    "        data.columns = collist2\n",
    "        data['Average Female Employment Qtr 1'] = np.nan\n",
    "        data['Average Female Employment Qtr 2'] = np.nan\n",
    "        data['Average Female Employment Qtr 3'] = np.nan\n",
    "        data['Average Female Employment Qtr 4'] = np.nan\n",
    "        data['Average Female Employment Annual'] = np.nan\n",
    "\n",
    "changeheader(cumlative)\n",
    "cumlative.columns           "
   ]
  },
  {
   "cell_type": "code",
   "execution_count": 14,
   "metadata": {},
   "outputs": [],
   "source": [
    "# Adds the year \n",
    "cumlative['Year'] = year"
   ]
  },
  {
   "cell_type": "code",
   "execution_count": 15,
   "metadata": {},
   "outputs": [],
   "source": [
    "# Removes all NA rows and rows that contain footnotes or count names as these had individual rows without values\n",
    "exclude = ['nan', '(c) = data can not be released, does not meet confidentiality standards', \n",
    "           '- = zero employment, wages or establishments','na = data is not available', \n",
    "           'released: November 2015', 'released: September 2016', 'released: August 2017','released: November 2017',\n",
    "           'Addison County', 'Vermont','Bennington County', 'Chittenden County','Caledonia County', 'Essex County', 'Franklin County', \n",
    "           'Grand Isle County', 'Lamoille County', 'Orange County', 'Orleans County', 'Rutland County', 'Washington County',\n",
    "           'Windham County','Windsor County', 'All Other county']\n",
    "    \n",
    "cumlative = cumlative.loc[~cumlative['Type'].isin(exclude)]\n",
    "cumlative = cumlative.loc[cumlative['Type'].notnull()]\n",
    "\n",
    "# removes all leading whitespaces on the type name, indentation was used to show hierachy in the original file\n",
    "cumlative['Type'] = cumlative['Type'].str.lstrip()"
   ]
  },
  {
   "cell_type": "code",
   "execution_count": 16,
   "metadata": {
    "collapsed": true
   },
   "outputs": [],
   "source": [
    "# Creates county only data set\n",
    "cumlativecnty = cumlative[cumlative['County'] != 'Vermont']\n",
    "\n",
    "# Creates state only data set\n",
    "cumlativevt = cumlative[cumlative['County'] == 'Vermont']"
   ]
  },
  {
   "cell_type": "code",
   "execution_count": 17,
   "metadata": {},
   "outputs": [
    {
     "data": {
      "text/html": [
       "<div>\n",
       "<table border=\"1\" class=\"dataframe\">\n",
       "  <thead>\n",
       "    <tr style=\"text-align: right;\">\n",
       "      <th></th>\n",
       "      <th>Type</th>\n",
       "      <th>Jan</th>\n",
       "      <th>Feb</th>\n",
       "      <th>Mar</th>\n",
       "      <th>Apr</th>\n",
       "      <th>May</th>\n",
       "      <th>Jun</th>\n",
       "      <th>Jul</th>\n",
       "      <th>Aug</th>\n",
       "      <th>Sep</th>\n",
       "      <th>...</th>\n",
       "      <th>Number of Establishments Qtr 3</th>\n",
       "      <th>Number of Establishments Qtr 4</th>\n",
       "      <th>Number of Establishments Annual</th>\n",
       "      <th>County</th>\n",
       "      <th>Average Female Employment Qtr 1</th>\n",
       "      <th>Average Female Employment Qtr 2</th>\n",
       "      <th>Average Female Employment Qtr 3</th>\n",
       "      <th>Average Female Employment Qtr 4</th>\n",
       "      <th>Average Female Employment Annual</th>\n",
       "      <th>Year</th>\n",
       "    </tr>\n",
       "  </thead>\n",
       "  <tbody>\n",
       "    <tr>\n",
       "      <th>1</th>\n",
       "      <td>Total Covered -  all ownerships</td>\n",
       "      <td>14552</td>\n",
       "      <td>14346</td>\n",
       "      <td>14501</td>\n",
       "      <td>14772</td>\n",
       "      <td>15201</td>\n",
       "      <td>15630</td>\n",
       "      <td></td>\n",
       "      <td></td>\n",
       "      <td></td>\n",
       "      <td>...</td>\n",
       "      <td></td>\n",
       "      <td></td>\n",
       "      <td></td>\n",
       "      <td>Addison County</td>\n",
       "      <td>NaN</td>\n",
       "      <td>NaN</td>\n",
       "      <td>NaN</td>\n",
       "      <td>NaN</td>\n",
       "      <td>NaN</td>\n",
       "      <td>2017</td>\n",
       "    </tr>\n",
       "    <tr>\n",
       "      <th>2</th>\n",
       "      <td>Private ownership</td>\n",
       "      <td>12495</td>\n",
       "      <td>12259</td>\n",
       "      <td>12426</td>\n",
       "      <td>12663</td>\n",
       "      <td>13129</td>\n",
       "      <td>13588</td>\n",
       "      <td></td>\n",
       "      <td></td>\n",
       "      <td></td>\n",
       "      <td>...</td>\n",
       "      <td></td>\n",
       "      <td></td>\n",
       "      <td></td>\n",
       "      <td>Addison County</td>\n",
       "      <td>NaN</td>\n",
       "      <td>NaN</td>\n",
       "      <td>NaN</td>\n",
       "      <td>NaN</td>\n",
       "      <td>NaN</td>\n",
       "      <td>2017</td>\n",
       "    </tr>\n",
       "    <tr>\n",
       "      <th>3</th>\n",
       "      <td>Goods Producing domain</td>\n",
       "      <td>3241</td>\n",
       "      <td>3210</td>\n",
       "      <td>3259</td>\n",
       "      <td>3334</td>\n",
       "      <td>3444</td>\n",
       "      <td>3580</td>\n",
       "      <td></td>\n",
       "      <td></td>\n",
       "      <td></td>\n",
       "      <td>...</td>\n",
       "      <td></td>\n",
       "      <td></td>\n",
       "      <td></td>\n",
       "      <td>Addison County</td>\n",
       "      <td>NaN</td>\n",
       "      <td>NaN</td>\n",
       "      <td>NaN</td>\n",
       "      <td>NaN</td>\n",
       "      <td>NaN</td>\n",
       "      <td>2017</td>\n",
       "    </tr>\n",
       "    <tr>\n",
       "      <th>4</th>\n",
       "      <td>Natural Resources and Mining supersector</td>\n",
       "      <td>693</td>\n",
       "      <td>689</td>\n",
       "      <td>704</td>\n",
       "      <td>713</td>\n",
       "      <td>740</td>\n",
       "      <td>771</td>\n",
       "      <td></td>\n",
       "      <td></td>\n",
       "      <td></td>\n",
       "      <td>...</td>\n",
       "      <td></td>\n",
       "      <td></td>\n",
       "      <td></td>\n",
       "      <td>Addison County</td>\n",
       "      <td>NaN</td>\n",
       "      <td>NaN</td>\n",
       "      <td>NaN</td>\n",
       "      <td>NaN</td>\n",
       "      <td>NaN</td>\n",
       "      <td>2017</td>\n",
       "    </tr>\n",
       "    <tr>\n",
       "      <th>5</th>\n",
       "      <td>Agriculture, forestry, fishing and hunting</td>\n",
       "      <td>666</td>\n",
       "      <td>656</td>\n",
       "      <td>671</td>\n",
       "      <td>676</td>\n",
       "      <td>696</td>\n",
       "      <td>724</td>\n",
       "      <td></td>\n",
       "      <td></td>\n",
       "      <td></td>\n",
       "      <td>...</td>\n",
       "      <td></td>\n",
       "      <td></td>\n",
       "      <td></td>\n",
       "      <td>Addison County</td>\n",
       "      <td>NaN</td>\n",
       "      <td>NaN</td>\n",
       "      <td>NaN</td>\n",
       "      <td>NaN</td>\n",
       "      <td>NaN</td>\n",
       "      <td>2017</td>\n",
       "    </tr>\n",
       "  </tbody>\n",
       "</table>\n",
       "<p>5 rows × 40 columns</p>\n",
       "</div>"
      ],
      "text/plain": [
       "                                         Type    Jan    Feb    Mar    Apr  \\\n",
       "1             Total Covered -  all ownerships  14552  14346  14501  14772   \n",
       "2                           Private ownership  12495  12259  12426  12663   \n",
       "3                      Goods Producing domain   3241   3210   3259   3334   \n",
       "4    Natural Resources and Mining supersector    693    689    704    713   \n",
       "5  Agriculture, forestry, fishing and hunting    666    656    671    676   \n",
       "\n",
       "     May    Jun Jul Aug Sep  ...  Number of Establishments Qtr 3  \\\n",
       "1  15201  15630              ...                                   \n",
       "2  13129  13588              ...                                   \n",
       "3   3444   3580              ...                                   \n",
       "4    740    771              ...                                   \n",
       "5    696    724              ...                                   \n",
       "\n",
       "  Number of Establishments Qtr 4 Number of Establishments Annual  \\\n",
       "1                                                                  \n",
       "2                                                                  \n",
       "3                                                                  \n",
       "4                                                                  \n",
       "5                                                                  \n",
       "\n",
       "           County Average Female Employment Qtr 1  \\\n",
       "1  Addison County                             NaN   \n",
       "2  Addison County                             NaN   \n",
       "3  Addison County                             NaN   \n",
       "4  Addison County                             NaN   \n",
       "5  Addison County                             NaN   \n",
       "\n",
       "  Average Female Employment Qtr 2 Average Female Employment Qtr 3  \\\n",
       "1                             NaN                             NaN   \n",
       "2                             NaN                             NaN   \n",
       "3                             NaN                             NaN   \n",
       "4                             NaN                             NaN   \n",
       "5                             NaN                             NaN   \n",
       "\n",
       "  Average Female Employment Qtr 4 Average Female Employment Annual  Year  \n",
       "1                             NaN                              NaN  2017  \n",
       "2                             NaN                              NaN  2017  \n",
       "3                             NaN                              NaN  2017  \n",
       "4                             NaN                              NaN  2017  \n",
       "5                             NaN                              NaN  2017  \n",
       "\n",
       "[5 rows x 40 columns]"
      ]
     },
     "execution_count": 17,
     "metadata": {},
     "output_type": "execute_result"
    }
   ],
   "source": [
    "cumlativecnty.head()"
   ]
  },
  {
   "cell_type": "code",
   "execution_count": 18,
   "metadata": {},
   "outputs": [
    {
     "data": {
      "text/html": [
       "<div>\n",
       "<table border=\"1\" class=\"dataframe\">\n",
       "  <thead>\n",
       "    <tr style=\"text-align: right;\">\n",
       "      <th></th>\n",
       "      <th>Type</th>\n",
       "      <th>Jan</th>\n",
       "      <th>Feb</th>\n",
       "      <th>Mar</th>\n",
       "      <th>Apr</th>\n",
       "      <th>May</th>\n",
       "      <th>Jun</th>\n",
       "      <th>Jul</th>\n",
       "      <th>Aug</th>\n",
       "      <th>Sep</th>\n",
       "      <th>...</th>\n",
       "      <th>Number of Establishments Qtr 3</th>\n",
       "      <th>Number of Establishments Qtr 4</th>\n",
       "      <th>Number of Establishments Annual</th>\n",
       "      <th>County</th>\n",
       "      <th>Average Female Employment Qtr 1</th>\n",
       "      <th>Average Female Employment Qtr 2</th>\n",
       "      <th>Average Female Employment Qtr 3</th>\n",
       "      <th>Average Female Employment Qtr 4</th>\n",
       "      <th>Average Female Employment Annual</th>\n",
       "      <th>Year</th>\n",
       "    </tr>\n",
       "  </thead>\n",
       "  <tbody>\n",
       "    <tr>\n",
       "      <th>1</th>\n",
       "      <td>Total Covered -  all ownerships</td>\n",
       "      <td>306109</td>\n",
       "      <td>305622</td>\n",
       "      <td>305966</td>\n",
       "      <td>304906</td>\n",
       "      <td>307636</td>\n",
       "      <td>314259</td>\n",
       "      <td></td>\n",
       "      <td></td>\n",
       "      <td></td>\n",
       "      <td>...</td>\n",
       "      <td></td>\n",
       "      <td></td>\n",
       "      <td></td>\n",
       "      <td>Vermont</td>\n",
       "      <td>NaN</td>\n",
       "      <td>NaN</td>\n",
       "      <td>NaN</td>\n",
       "      <td>NaN</td>\n",
       "      <td>NaN</td>\n",
       "      <td>2017</td>\n",
       "    </tr>\n",
       "    <tr>\n",
       "      <th>2</th>\n",
       "      <td>Private ownership</td>\n",
       "      <td>253311</td>\n",
       "      <td>251477</td>\n",
       "      <td>251921</td>\n",
       "      <td>250533</td>\n",
       "      <td>253455</td>\n",
       "      <td>260692</td>\n",
       "      <td></td>\n",
       "      <td></td>\n",
       "      <td></td>\n",
       "      <td>...</td>\n",
       "      <td></td>\n",
       "      <td></td>\n",
       "      <td></td>\n",
       "      <td>Vermont</td>\n",
       "      <td>NaN</td>\n",
       "      <td>NaN</td>\n",
       "      <td>NaN</td>\n",
       "      <td>NaN</td>\n",
       "      <td>NaN</td>\n",
       "      <td>2017</td>\n",
       "    </tr>\n",
       "    <tr>\n",
       "      <th>3</th>\n",
       "      <td>Goods Producing domain</td>\n",
       "      <td>46322</td>\n",
       "      <td>45632</td>\n",
       "      <td>45979</td>\n",
       "      <td>47237</td>\n",
       "      <td>49019</td>\n",
       "      <td>50387</td>\n",
       "      <td></td>\n",
       "      <td></td>\n",
       "      <td></td>\n",
       "      <td>...</td>\n",
       "      <td></td>\n",
       "      <td></td>\n",
       "      <td></td>\n",
       "      <td>Vermont</td>\n",
       "      <td>NaN</td>\n",
       "      <td>NaN</td>\n",
       "      <td>NaN</td>\n",
       "      <td>NaN</td>\n",
       "      <td>NaN</td>\n",
       "      <td>2017</td>\n",
       "    </tr>\n",
       "    <tr>\n",
       "      <th>4</th>\n",
       "      <td>Natural Resources and Mining supersector</td>\n",
       "      <td>3524</td>\n",
       "      <td>3467</td>\n",
       "      <td>3564</td>\n",
       "      <td>3756</td>\n",
       "      <td>3945</td>\n",
       "      <td>4166</td>\n",
       "      <td></td>\n",
       "      <td></td>\n",
       "      <td></td>\n",
       "      <td>...</td>\n",
       "      <td></td>\n",
       "      <td></td>\n",
       "      <td></td>\n",
       "      <td>Vermont</td>\n",
       "      <td>NaN</td>\n",
       "      <td>NaN</td>\n",
       "      <td>NaN</td>\n",
       "      <td>NaN</td>\n",
       "      <td>NaN</td>\n",
       "      <td>2017</td>\n",
       "    </tr>\n",
       "    <tr>\n",
       "      <th>5</th>\n",
       "      <td>Agriculture, forestry, fishing and hunting</td>\n",
       "      <td>2981</td>\n",
       "      <td>2940</td>\n",
       "      <td>3023</td>\n",
       "      <td>3143</td>\n",
       "      <td>3306</td>\n",
       "      <td>3503</td>\n",
       "      <td></td>\n",
       "      <td></td>\n",
       "      <td></td>\n",
       "      <td>...</td>\n",
       "      <td></td>\n",
       "      <td></td>\n",
       "      <td></td>\n",
       "      <td>Vermont</td>\n",
       "      <td>NaN</td>\n",
       "      <td>NaN</td>\n",
       "      <td>NaN</td>\n",
       "      <td>NaN</td>\n",
       "      <td>NaN</td>\n",
       "      <td>2017</td>\n",
       "    </tr>\n",
       "  </tbody>\n",
       "</table>\n",
       "<p>5 rows × 40 columns</p>\n",
       "</div>"
      ],
      "text/plain": [
       "                                         Type     Jan     Feb     Mar     Apr  \\\n",
       "1             Total Covered -  all ownerships  306109  305622  305966  304906   \n",
       "2                           Private ownership  253311  251477  251921  250533   \n",
       "3                      Goods Producing domain   46322   45632   45979   47237   \n",
       "4    Natural Resources and Mining supersector    3524    3467    3564    3756   \n",
       "5  Agriculture, forestry, fishing and hunting    2981    2940    3023    3143   \n",
       "\n",
       "      May     Jun Jul Aug Sep  ...  Number of Establishments Qtr 3  \\\n",
       "1  307636  314259              ...                                   \n",
       "2  253455  260692              ...                                   \n",
       "3   49019   50387              ...                                   \n",
       "4    3945    4166              ...                                   \n",
       "5    3306    3503              ...                                   \n",
       "\n",
       "  Number of Establishments Qtr 4 Number of Establishments Annual   County  \\\n",
       "1                                                                 Vermont   \n",
       "2                                                                 Vermont   \n",
       "3                                                                 Vermont   \n",
       "4                                                                 Vermont   \n",
       "5                                                                 Vermont   \n",
       "\n",
       "  Average Female Employment Qtr 1 Average Female Employment Qtr 2  \\\n",
       "1                             NaN                             NaN   \n",
       "2                             NaN                             NaN   \n",
       "3                             NaN                             NaN   \n",
       "4                             NaN                             NaN   \n",
       "5                             NaN                             NaN   \n",
       "\n",
       "  Average Female Employment Qtr 3 Average Female Employment Qtr 4  \\\n",
       "1                             NaN                             NaN   \n",
       "2                             NaN                             NaN   \n",
       "3                             NaN                             NaN   \n",
       "4                             NaN                             NaN   \n",
       "5                             NaN                             NaN   \n",
       "\n",
       "  Average Female Employment Annual  Year  \n",
       "1                              NaN  2017  \n",
       "2                              NaN  2017  \n",
       "3                              NaN  2017  \n",
       "4                              NaN  2017  \n",
       "5                              NaN  2017  \n",
       "\n",
       "[5 rows x 40 columns]"
      ]
     },
     "execution_count": 18,
     "metadata": {},
     "output_type": "execute_result"
    }
   ],
   "source": [
    "cumlativevt.head()"
   ]
  },
  {
   "cell_type": "code",
   "execution_count": 19,
   "metadata": {
    "collapsed": true
   },
   "outputs": [],
   "source": [
    "# Checks if this is the first time this has been run and either creates the first dataset for saving to a csv or appends it to what is there\n",
    "if cumllaborcnty.empty:\n",
    "    cumllaborcnty = cumlativecnty\n",
    "else:\n",
    "    cumllaborcnty = cumllaborcnty.append(cumlativecnty, ignore_index=True)\n",
    "    \n",
    "if cumllaborvt.empty:\n",
    "    cumllaborvt = cumlativevt\n",
    "else:\n",
    "    cumllaborvt = cumllaborvt.append(cumlativevt, ignore_index=True)"
   ]
  },
  {
   "cell_type": "code",
   "execution_count": 20,
   "metadata": {
    "collapsed": true
   },
   "outputs": [],
   "source": [
    "cumllaborcnty.to_csv(\"cumllaborcnty.csv\", index=False)\n",
    "cumllaborvt.to_csv(\"cumllaborvt.csv\", index=False)"
   ]
  },
  {
   "cell_type": "markdown",
   "metadata": {},
   "source": [
    "Annual Average Employment or Jobs: The employment figures in this report are a simple average of the reported monthly employment figures for the calendar year.  In some industries where there are significant seasonal changes in the number employed during the year, the annual average employment will differ significantly from the level of employment for any part of the year.  Employment is the same as the number of jobs.\n",
    "\n",
    "Annual Average Wage: The annual average wage is a figure computed from total wages and average employment (total annual wages/annual average employment). Because it is an average of aggregate data the annual average wage should not be used to estimate hourly wages.  Employers do not report hourly information. Employment and wage data cover hourly workers, salaried workers, and persons paid on a commission basis and who may be working full-time, part-time, or overtime.  The annual average employment and wage figures can be influenced by the mix of these items and should be interpreted with caution.\n",
    "\n",
    "Confidentiality Standards: Confidentiality standards apply to private sector data only.  The publication of data that would disclose an individual firm’s employment or wage information is prohibited under the Bureau of Labor Statistic’s guidelines of confidentiality.  Aggregate data is not published if it represents fewer than three private employers or if one private employer represents 80% or more of the data.  In addition, Vermont does not publish data with fewer than ten private sector employees.  All government data is publishable.\n",
    "\n",
    "Covered Employer: Covered employer refers to a business subject to the Vermont Unemployment Compensation Law, or for federal agencies, the Federal Unemployment Compensation Law.   Covered employers include:  1) private for-profit businesses with one or more employees, 2) federal, state and local government agencies, 3) non-profit religious, charitable, or educational firms with at least four employees, 4) farms employing ten or more workers, 5) private homes employing domestics, and 6) exempt firms who voluntarily elect coverage. Excluded are: 1) the self-employed, 2) most farms, 3) some non-profits, 4) Churches, 4) railroads (workers are covered by the railroad unemployment insurance system), 5) elected officials, 6) officers and family members of sole proprietorships or partnerships, and 7) student workers in a work-study or academic program.\n",
    "\n",
    "Covered Employment and Wages: The data in this report refers to employees and their wages in businesses required to furnish unemployment insurance coverage.  See Covered Employer.\n",
    "\n",
    "Data Source: Data is compiled from quarterly reports submitted by employers.  The reports contain monthly employment information for the pay period that includes the 12th of the month and total wages paid in the quarter.\n",
    "Establishments, Worksites and Employers: A reporting unit is the smallest economic unit for which data is reported. An establishment is an economic unit, such as a farm, factory, or store, which produces goods or provides services at a single physical worksite and engaged, predominantly, in one type of economic activity.  Most employers operate only one establishment or place of business so all of their activity is reported under one reporting unit.  Employers who operate more than one establishment in the state are requested to report each worksite separately.\n",
    "\n",
    "In some cases the employer aggregates the worksites into several units, though not at the establishment level. Occasionally, a single physical location encompasses two or more distinct and significant activities that, if possible, are reported as separate units.  In these cases, a reporting unit is only one worksite, or a group of worksites, or part of a worksite and not all of an employers’ activity in the state.\n",
    "\n",
    "Growth or Increase in the Number of Jobs: All information referring to growth in this report is based on net changes.  The amount of growth during any time period is equal to the number of jobs (or wages) gained minus the number of jobs (wages) lost.\n",
    "\n",
    "Industry Groups or NAICS: Beginning with the publication of 2001 annual data, the North American Industry Classification System (NAICS) is used to group industries.   NAICS replaced the Standard Industrial Classification (SIC) system in the U.S., and is used by all North American governmental and many private organizations for the purposes of uniformity in presenting statistical data.  The NAICS classification structure groups industries based on similar production processes. For more information on NAICS, please visit the Bureau of Labor Statistics website, http://www.bls.gov/bls/naics.htm.\n",
    "\n",
    "Ownership - Private and Governmental: The ownership of establishments is classified as either Private or Government.  Government employers are further classified by level of government: Local (operated by town), State (operated by the State) or Federal (operated by the United States Government).\n",
    "\n",
    "Reclassification of Specific Firms: In an active economy many firms change their physical location and some change their primary business activity.  To maintain and update location and activity information all employers are surveyed during a three year cycle.  The resulting changes are effective at the start of the next calendar year.  While this improves the accuracy of data analysis, it also introduces fluctuations in the data from year to year due to these administrative changes.\n",
    "\n",
    "Seasonal Activity: Seasonal activity in Vermont industries produces significant variation in employment levels during the year.  The annual average provides a convenient summary of the year’s employment and wages.  By definition, however, it obscures the peaks and valleys.\n",
    "\n",
    "Size Class: Each reporting unit is assigned to one of nine size class categories based upon March employment.  It is important to note that for multi-establishment employers size class is based on each worksite, not the firm's total employment.\n",
    "Unclassified County Data: A small percentage of covered employment and total wages are not classified by county.  In these cases the employees' work is not performed at a given physical location, e.g., traveling salespeople."
   ]
  }
 ],
 "metadata": {
  "kernelspec": {
   "display_name": "Python 3",
   "language": "python",
   "name": "python3"
  },
  "language_info": {
   "codemirror_mode": {
    "name": "ipython",
    "version": 3
   },
   "file_extension": ".py",
   "mimetype": "text/x-python",
   "name": "python",
   "nbconvert_exporter": "python",
   "pygments_lexer": "ipython3",
   "version": "3.6.2"
  }
 },
 "nbformat": 4,
 "nbformat_minor": 2
}
