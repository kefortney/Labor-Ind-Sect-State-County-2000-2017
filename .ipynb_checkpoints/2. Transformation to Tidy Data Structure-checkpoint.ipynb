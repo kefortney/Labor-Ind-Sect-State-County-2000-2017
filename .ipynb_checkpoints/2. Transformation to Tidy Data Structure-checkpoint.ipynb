{
 "cells": [
  {
   "cell_type": "code",
   "execution_count": 1,
   "metadata": {
    "collapsed": true
   },
   "outputs": [],
   "source": [
    "import pandas as pd\n",
    "import numpy as np\n",
    "# Visualization\n",
    "import matplotlib.pyplot as plt\n",
    "import matplotlib.pylab as pylab\n",
    "import seaborn as sns\n",
    "%matplotlib inline"
   ]
  },
  {
   "cell_type": "markdown",
   "metadata": {},
   "source": [
    "## Information and Instructions\n",
    "\n",
    "IN this notebook the data from step one will be transformed into a Tidy Data type structure split into Montly, Quarterly and Annual observations. There are additional data cleaning steps performed as well. This is to prepare it for analysis in the next step."
   ]
  },
  {
   "cell_type": "code",
   "execution_count": 2,
   "metadata": {
    "collapsed": true
   },
   "outputs": [],
   "source": [
    "# Load cumilative datasets created in step 1\n",
    "cumllaborcnty = pd.read_csv('cumllaborcnty.csv')\n",
    "cumllaborvt = pd.read_csv('cumllaborvt.csv')"
   ]
  },
  {
   "cell_type": "markdown",
   "metadata": {},
   "source": [
    "# County"
   ]
  },
  {
   "cell_type": "markdown",
   "metadata": {},
   "source": [
    "## Melting Data\n",
    "\n",
    "In order to split this out correctly and reorder the data, first I melt it into few columns so months, quarters and annual measurements are in a single row."
   ]
  },
  {
   "cell_type": "code",
   "execution_count": 3,
   "metadata": {},
   "outputs": [
    {
     "data": {
      "text/html": [
       "<div>\n",
       "<table border=\"1\" class=\"dataframe\">\n",
       "  <thead>\n",
       "    <tr style=\"text-align: right;\">\n",
       "      <th></th>\n",
       "      <th>Year</th>\n",
       "      <th>County</th>\n",
       "      <th>Type</th>\n",
       "      <th>Time</th>\n",
       "      <th>Count</th>\n",
       "    </tr>\n",
       "  </thead>\n",
       "  <tbody>\n",
       "    <tr>\n",
       "      <th>0</th>\n",
       "      <td>2000</td>\n",
       "      <td>Addison County</td>\n",
       "      <td>Total Covered -  all ownerships</td>\n",
       "      <td>Apr</td>\n",
       "      <td>13656</td>\n",
       "    </tr>\n",
       "    <tr>\n",
       "      <th>1</th>\n",
       "      <td>2000</td>\n",
       "      <td>Addison County</td>\n",
       "      <td>Private ownership</td>\n",
       "      <td>Apr</td>\n",
       "      <td>11545</td>\n",
       "    </tr>\n",
       "    <tr>\n",
       "      <th>2</th>\n",
       "      <td>2000</td>\n",
       "      <td>Addison County</td>\n",
       "      <td>Goods Producing domain</td>\n",
       "      <td>Apr</td>\n",
       "      <td>3366</td>\n",
       "    </tr>\n",
       "    <tr>\n",
       "      <th>3</th>\n",
       "      <td>2000</td>\n",
       "      <td>Addison County</td>\n",
       "      <td>Natural Resources and Mining supersector</td>\n",
       "      <td>Apr</td>\n",
       "      <td>533</td>\n",
       "    </tr>\n",
       "    <tr>\n",
       "      <th>4</th>\n",
       "      <td>2000</td>\n",
       "      <td>Addison County</td>\n",
       "      <td>Agriculture, forestry, fishing and hunting</td>\n",
       "      <td>Apr</td>\n",
       "      <td>484</td>\n",
       "    </tr>\n",
       "  </tbody>\n",
       "</table>\n",
       "</div>"
      ],
      "text/plain": [
       "   Year          County                                        Type Time  \\\n",
       "0  2000  Addison County             Total Covered -  all ownerships  Apr   \n",
       "1  2000  Addison County                           Private ownership  Apr   \n",
       "2  2000  Addison County                      Goods Producing domain  Apr   \n",
       "3  2000  Addison County    Natural Resources and Mining supersector  Apr   \n",
       "4  2000  Addison County  Agriculture, forestry, fishing and hunting  Apr   \n",
       "\n",
       "   Count  \n",
       "0  13656  \n",
       "1  11545  \n",
       "2   3366  \n",
       "3    533  \n",
       "4    484  "
      ]
     },
     "execution_count": 3,
     "metadata": {},
     "output_type": "execute_result"
    }
   ],
   "source": [
    "cumllaborcnty = pd.melt(cumllaborcnty,id_vars=['Year','County','Type'],var_name='Time', value_name='Count')\n",
    "cumllaborcnty.head()"
   ]
  },
  {
   "cell_type": "code",
   "execution_count": 4,
   "metadata": {},
   "outputs": [],
   "source": [
    "# There are missing values or occasions where the occurance is too small to show, each we are replacing with NaNs\n",
    "cumllaborcnty = cumllaborcnty.replace('(c)', np.nan)\n",
    "cumllaborcnty = cumllaborcnty.replace('-', np.nan)\n",
    "cumllaborcnty = cumllaborcnty.replace('na', np.nan)\n",
    "cumllaborcnty = cumllaborcnty.replace(' ', np.nan)\n",
    "cumllaborcnty = cumllaborcnty.replace('<1', 1)\n",
    "\n",
    "# Numeric was stored as a string and needed to be converted\n",
    "cumllaborcnty['Count'] = pd.to_numeric(cumllaborcnty['Count'])"
   ]
  },
  {
   "cell_type": "code",
   "execution_count": 5,
   "metadata": {
    "collapsed": true
   },
   "outputs": [],
   "source": [
    "# Set up lists of how these are going to be split out into similiar types\n",
    "monthlist = ['Jan', 'Feb', 'Mar', 'Apr', 'May', 'Jun', 'Jul', 'Aug', 'Sep', 'Oct', 'Nov', 'Dec']\n",
    "\n",
    "quarterslist = ['Average Employment Qtr 1', 'Average Employment Qtr 2', 'Average Employment Qtr 3', 'Average Employment Qtr 4', \n",
    "            'Average Female Employment Qtr 1', 'Average Female Employment Qtr 2','Average Female Employment Qtr 3',\n",
    "            'Average Female Employment Qtr 4','Total Wages Qtr 1', 'Total Wages 2', 'Total Wages 3', \n",
    "            'Total Wages 4','Average Wage Qtr 1', 'Average Wage Qtr 2', 'Average Wage Qtr 3', \n",
    "            'Average Wage Qtr 4','Number of Establishments Qtr 1', 'Number of Establishments Qtr 2',\n",
    "            'Number of Establishments Qtr 3', 'Number of EstablishmentsQtr 4'\n",
    "           ]\n",
    "\n",
    "annuallist = ['Average Employment Annual', 'Average Female Employment Annual', 'Total Wages Annual',  'Average Wage Annual',\n",
    "           'Number of Establishments Annual'\n",
    "          ]"
   ]
  },
  {
   "cell_type": "code",
   "execution_count": 6,
   "metadata": {
    "collapsed": true
   },
   "outputs": [],
   "source": [
    "# Creates the three data sets by type of time period\n",
    "monthscnty = cumllaborcnty[cumllaborcnty['Time'].isin(monthlist)].copy()\n",
    "quarterscnty = cumllaborcnty[cumllaborcnty['Time'].isin(quarterslist)].copy()\n",
    "annualcnty = cumllaborcnty[cumllaborcnty['Time'].isin(annuallist)].copy()"
   ]
  },
  {
   "cell_type": "code",
   "execution_count": 7,
   "metadata": {},
   "outputs": [
    {
     "data": {
      "text/html": [
       "<div>\n",
       "<table border=\"1\" class=\"dataframe\">\n",
       "  <thead>\n",
       "    <tr style=\"text-align: right;\">\n",
       "      <th></th>\n",
       "      <th>Year</th>\n",
       "      <th>County</th>\n",
       "      <th>Type</th>\n",
       "      <th>Time</th>\n",
       "      <th>Count</th>\n",
       "    </tr>\n",
       "  </thead>\n",
       "  <tbody>\n",
       "    <tr>\n",
       "      <th>0</th>\n",
       "      <td>2000</td>\n",
       "      <td>Addison County</td>\n",
       "      <td>Total Covered -  all ownerships</td>\n",
       "      <td>Apr</td>\n",
       "      <td>13656.0</td>\n",
       "    </tr>\n",
       "    <tr>\n",
       "      <th>1</th>\n",
       "      <td>2000</td>\n",
       "      <td>Addison County</td>\n",
       "      <td>Private ownership</td>\n",
       "      <td>Apr</td>\n",
       "      <td>11545.0</td>\n",
       "    </tr>\n",
       "    <tr>\n",
       "      <th>2</th>\n",
       "      <td>2000</td>\n",
       "      <td>Addison County</td>\n",
       "      <td>Goods Producing domain</td>\n",
       "      <td>Apr</td>\n",
       "      <td>3366.0</td>\n",
       "    </tr>\n",
       "    <tr>\n",
       "      <th>3</th>\n",
       "      <td>2000</td>\n",
       "      <td>Addison County</td>\n",
       "      <td>Natural Resources and Mining supersector</td>\n",
       "      <td>Apr</td>\n",
       "      <td>533.0</td>\n",
       "    </tr>\n",
       "    <tr>\n",
       "      <th>4</th>\n",
       "      <td>2000</td>\n",
       "      <td>Addison County</td>\n",
       "      <td>Agriculture, forestry, fishing and hunting</td>\n",
       "      <td>Apr</td>\n",
       "      <td>484.0</td>\n",
       "    </tr>\n",
       "  </tbody>\n",
       "</table>\n",
       "</div>"
      ],
      "text/plain": [
       "   Year          County                                        Type Time  \\\n",
       "0  2000  Addison County             Total Covered -  all ownerships  Apr   \n",
       "1  2000  Addison County                           Private ownership  Apr   \n",
       "2  2000  Addison County                      Goods Producing domain  Apr   \n",
       "3  2000  Addison County    Natural Resources and Mining supersector  Apr   \n",
       "4  2000  Addison County  Agriculture, forestry, fishing and hunting  Apr   \n",
       "\n",
       "     Count  \n",
       "0  13656.0  \n",
       "1  11545.0  \n",
       "2   3366.0  \n",
       "3    533.0  \n",
       "4    484.0  "
      ]
     },
     "execution_count": 7,
     "metadata": {},
     "output_type": "execute_result"
    }
   ],
   "source": [
    "monthscnty.head()"
   ]
  },
  {
   "cell_type": "code",
   "execution_count": 8,
   "metadata": {},
   "outputs": [
    {
     "data": {
      "text/html": [
       "<div>\n",
       "<table border=\"1\" class=\"dataframe\">\n",
       "  <thead>\n",
       "    <tr style=\"text-align: right;\">\n",
       "      <th></th>\n",
       "      <th>Year</th>\n",
       "      <th>County</th>\n",
       "      <th>Type</th>\n",
       "      <th>Time</th>\n",
       "      <th>Count</th>\n",
       "    </tr>\n",
       "  </thead>\n",
       "  <tbody>\n",
       "    <tr>\n",
       "      <th>28350</th>\n",
       "      <td>2000</td>\n",
       "      <td>Addison County</td>\n",
       "      <td>Total Covered -  all ownerships</td>\n",
       "      <td>Average Employment Qtr 1</td>\n",
       "      <td>13162.0</td>\n",
       "    </tr>\n",
       "    <tr>\n",
       "      <th>28351</th>\n",
       "      <td>2000</td>\n",
       "      <td>Addison County</td>\n",
       "      <td>Private ownership</td>\n",
       "      <td>Average Employment Qtr 1</td>\n",
       "      <td>11121.0</td>\n",
       "    </tr>\n",
       "    <tr>\n",
       "      <th>28352</th>\n",
       "      <td>2000</td>\n",
       "      <td>Addison County</td>\n",
       "      <td>Goods Producing domain</td>\n",
       "      <td>Average Employment Qtr 1</td>\n",
       "      <td>3270.0</td>\n",
       "    </tr>\n",
       "    <tr>\n",
       "      <th>28353</th>\n",
       "      <td>2000</td>\n",
       "      <td>Addison County</td>\n",
       "      <td>Natural Resources and Mining supersector</td>\n",
       "      <td>Average Employment Qtr 1</td>\n",
       "      <td>474.0</td>\n",
       "    </tr>\n",
       "    <tr>\n",
       "      <th>28354</th>\n",
       "      <td>2000</td>\n",
       "      <td>Addison County</td>\n",
       "      <td>Agriculture, forestry, fishing and hunting</td>\n",
       "      <td>Average Employment Qtr 1</td>\n",
       "      <td>437.0</td>\n",
       "    </tr>\n",
       "  </tbody>\n",
       "</table>\n",
       "</div>"
      ],
      "text/plain": [
       "       Year          County                                        Type  \\\n",
       "28350  2000  Addison County             Total Covered -  all ownerships   \n",
       "28351  2000  Addison County                           Private ownership   \n",
       "28352  2000  Addison County                      Goods Producing domain   \n",
       "28353  2000  Addison County    Natural Resources and Mining supersector   \n",
       "28354  2000  Addison County  Agriculture, forestry, fishing and hunting   \n",
       "\n",
       "                           Time    Count  \n",
       "28350  Average Employment Qtr 1  13162.0  \n",
       "28351  Average Employment Qtr 1  11121.0  \n",
       "28352  Average Employment Qtr 1   3270.0  \n",
       "28353  Average Employment Qtr 1    474.0  \n",
       "28354  Average Employment Qtr 1    437.0  "
      ]
     },
     "execution_count": 8,
     "metadata": {},
     "output_type": "execute_result"
    }
   ],
   "source": [
    "quarterscnty.head()"
   ]
  },
  {
   "cell_type": "code",
   "execution_count": 9,
   "metadata": {},
   "outputs": [
    {
     "data": {
      "text/html": [
       "<div>\n",
       "<table border=\"1\" class=\"dataframe\">\n",
       "  <thead>\n",
       "    <tr style=\"text-align: right;\">\n",
       "      <th></th>\n",
       "      <th>Year</th>\n",
       "      <th>County</th>\n",
       "      <th>Type</th>\n",
       "      <th>Time</th>\n",
       "      <th>Count</th>\n",
       "    </tr>\n",
       "  </thead>\n",
       "  <tbody>\n",
       "    <tr>\n",
       "      <th>18900</th>\n",
       "      <td>2000</td>\n",
       "      <td>Addison County</td>\n",
       "      <td>Total Covered -  all ownerships</td>\n",
       "      <td>Average Employment Annual</td>\n",
       "      <td>13730.0</td>\n",
       "    </tr>\n",
       "    <tr>\n",
       "      <th>18901</th>\n",
       "      <td>2000</td>\n",
       "      <td>Addison County</td>\n",
       "      <td>Private ownership</td>\n",
       "      <td>Average Employment Annual</td>\n",
       "      <td>11752.0</td>\n",
       "    </tr>\n",
       "    <tr>\n",
       "      <th>18902</th>\n",
       "      <td>2000</td>\n",
       "      <td>Addison County</td>\n",
       "      <td>Goods Producing domain</td>\n",
       "      <td>Average Employment Annual</td>\n",
       "      <td>3445.0</td>\n",
       "    </tr>\n",
       "    <tr>\n",
       "      <th>18903</th>\n",
       "      <td>2000</td>\n",
       "      <td>Addison County</td>\n",
       "      <td>Natural Resources and Mining supersector</td>\n",
       "      <td>Average Employment Annual</td>\n",
       "      <td>538.0</td>\n",
       "    </tr>\n",
       "    <tr>\n",
       "      <th>18904</th>\n",
       "      <td>2000</td>\n",
       "      <td>Addison County</td>\n",
       "      <td>Agriculture, forestry, fishing and hunting</td>\n",
       "      <td>Average Employment Annual</td>\n",
       "      <td>488.0</td>\n",
       "    </tr>\n",
       "  </tbody>\n",
       "</table>\n",
       "</div>"
      ],
      "text/plain": [
       "       Year          County                                        Type  \\\n",
       "18900  2000  Addison County             Total Covered -  all ownerships   \n",
       "18901  2000  Addison County                           Private ownership   \n",
       "18902  2000  Addison County                      Goods Producing domain   \n",
       "18903  2000  Addison County    Natural Resources and Mining supersector   \n",
       "18904  2000  Addison County  Agriculture, forestry, fishing and hunting   \n",
       "\n",
       "                            Time    Count  \n",
       "18900  Average Employment Annual  13730.0  \n",
       "18901  Average Employment Annual  11752.0  \n",
       "18902  Average Employment Annual   3445.0  \n",
       "18903  Average Employment Annual    538.0  \n",
       "18904  Average Employment Annual    488.0  "
      ]
     },
     "execution_count": 9,
     "metadata": {},
     "output_type": "execute_result"
    }
   ],
   "source": [
    "annualcnty.head()"
   ]
  },
  {
   "cell_type": "markdown",
   "metadata": {},
   "source": [
    "## Months\n",
    "\n",
    "There are some little changes that make the monthly section more useful. Renaming columns, changing months to their full name and working with datetime."
   ]
  },
  {
   "cell_type": "code",
   "execution_count": 10,
   "metadata": {},
   "outputs": [
    {
     "data": {
      "text/html": [
       "<div>\n",
       "<table border=\"1\" class=\"dataframe\">\n",
       "  <thead>\n",
       "    <tr style=\"text-align: right;\">\n",
       "      <th></th>\n",
       "      <th>Year</th>\n",
       "      <th>Month</th>\n",
       "      <th>County</th>\n",
       "      <th>Type</th>\n",
       "      <th>Employment</th>\n",
       "    </tr>\n",
       "  </thead>\n",
       "  <tbody>\n",
       "    <tr>\n",
       "      <th>0</th>\n",
       "      <td>2000</td>\n",
       "      <td>Apr</td>\n",
       "      <td>Addison County</td>\n",
       "      <td>Total Covered -  all ownerships</td>\n",
       "      <td>13656.0</td>\n",
       "    </tr>\n",
       "    <tr>\n",
       "      <th>1</th>\n",
       "      <td>2000</td>\n",
       "      <td>Apr</td>\n",
       "      <td>Addison County</td>\n",
       "      <td>Private ownership</td>\n",
       "      <td>11545.0</td>\n",
       "    </tr>\n",
       "    <tr>\n",
       "      <th>2</th>\n",
       "      <td>2000</td>\n",
       "      <td>Apr</td>\n",
       "      <td>Addison County</td>\n",
       "      <td>Goods Producing domain</td>\n",
       "      <td>3366.0</td>\n",
       "    </tr>\n",
       "    <tr>\n",
       "      <th>3</th>\n",
       "      <td>2000</td>\n",
       "      <td>Apr</td>\n",
       "      <td>Addison County</td>\n",
       "      <td>Natural Resources and Mining supersector</td>\n",
       "      <td>533.0</td>\n",
       "    </tr>\n",
       "    <tr>\n",
       "      <th>4</th>\n",
       "      <td>2000</td>\n",
       "      <td>Apr</td>\n",
       "      <td>Addison County</td>\n",
       "      <td>Agriculture, forestry, fishing and hunting</td>\n",
       "      <td>484.0</td>\n",
       "    </tr>\n",
       "  </tbody>\n",
       "</table>\n",
       "</div>"
      ],
      "text/plain": [
       "   Year Month          County                                        Type  \\\n",
       "0  2000   Apr  Addison County             Total Covered -  all ownerships   \n",
       "1  2000   Apr  Addison County                           Private ownership   \n",
       "2  2000   Apr  Addison County                      Goods Producing domain   \n",
       "3  2000   Apr  Addison County    Natural Resources and Mining supersector   \n",
       "4  2000   Apr  Addison County  Agriculture, forestry, fishing and hunting   \n",
       "\n",
       "   Employment  \n",
       "0     13656.0  \n",
       "1     11545.0  \n",
       "2      3366.0  \n",
       "3       533.0  \n",
       "4       484.0  "
      ]
     },
     "execution_count": 10,
     "metadata": {},
     "output_type": "execute_result"
    }
   ],
   "source": [
    "monthscnty.columns = ['Year', 'County', 'Type', 'Month', 'Employment']\n",
    "monthscnty = monthscnty[['Year', 'Month','County', 'Type', 'Employment']]\n",
    "monthscnty.head()"
   ]
  },
  {
   "cell_type": "code",
   "execution_count": 11,
   "metadata": {},
   "outputs": [],
   "source": [
    "# creates a corrected list of month names\n",
    "months = {'Jan':'January', 'Feb':'February', 'Mar':'March', 'Apr':'April', 'May':'May', 'Jun':'June', 'Jul':'July', \n",
    "             'Aug':'August','Sep':'September', 'Oct':'October', 'Nov':'November', 'Dec':'December'}\n",
    "\n",
    "monthscnty['Month'].replace(months, inplace=True)"
   ]
  },
  {
   "cell_type": "code",
   "execution_count": 12,
   "metadata": {},
   "outputs": [
    {
     "data": {
      "text/plain": [
       "array(['April', 'August', 'December', 'February', 'January', 'July',\n",
       "       'June', 'March', 'May', 'November', 'October', 'September'], dtype=object)"
      ]
     },
     "execution_count": 12,
     "metadata": {},
     "output_type": "execute_result"
    }
   ],
   "source": [
    "pd.unique(monthscnty['Month'])"
   ]
  },
  {
   "cell_type": "code",
   "execution_count": 13,
   "metadata": {},
   "outputs": [
    {
     "data": {
      "text/html": [
       "<div>\n",
       "<table border=\"1\" class=\"dataframe\">\n",
       "  <thead>\n",
       "    <tr style=\"text-align: right;\">\n",
       "      <th></th>\n",
       "      <th>Year</th>\n",
       "      <th>Month</th>\n",
       "      <th>County</th>\n",
       "      <th>Type</th>\n",
       "      <th>Employment</th>\n",
       "    </tr>\n",
       "  </thead>\n",
       "  <tbody>\n",
       "    <tr>\n",
       "      <th>0</th>\n",
       "      <td>2000</td>\n",
       "      <td>April</td>\n",
       "      <td>Addison County</td>\n",
       "      <td>Total Covered -  all ownerships</td>\n",
       "      <td>13656.0</td>\n",
       "    </tr>\n",
       "    <tr>\n",
       "      <th>1</th>\n",
       "      <td>2000</td>\n",
       "      <td>April</td>\n",
       "      <td>Addison County</td>\n",
       "      <td>Private ownership</td>\n",
       "      <td>11545.0</td>\n",
       "    </tr>\n",
       "    <tr>\n",
       "      <th>2</th>\n",
       "      <td>2000</td>\n",
       "      <td>April</td>\n",
       "      <td>Addison County</td>\n",
       "      <td>Goods Producing domain</td>\n",
       "      <td>3366.0</td>\n",
       "    </tr>\n",
       "    <tr>\n",
       "      <th>3</th>\n",
       "      <td>2000</td>\n",
       "      <td>April</td>\n",
       "      <td>Addison County</td>\n",
       "      <td>Natural Resources and Mining supersector</td>\n",
       "      <td>533.0</td>\n",
       "    </tr>\n",
       "    <tr>\n",
       "      <th>4</th>\n",
       "      <td>2000</td>\n",
       "      <td>April</td>\n",
       "      <td>Addison County</td>\n",
       "      <td>Agriculture, forestry, fishing and hunting</td>\n",
       "      <td>484.0</td>\n",
       "    </tr>\n",
       "  </tbody>\n",
       "</table>\n",
       "</div>"
      ],
      "text/plain": [
       "   Year  Month          County                                        Type  \\\n",
       "0  2000  April  Addison County             Total Covered -  all ownerships   \n",
       "1  2000  April  Addison County                           Private ownership   \n",
       "2  2000  April  Addison County                      Goods Producing domain   \n",
       "3  2000  April  Addison County    Natural Resources and Mining supersector   \n",
       "4  2000  April  Addison County  Agriculture, forestry, fishing and hunting   \n",
       "\n",
       "   Employment  \n",
       "0     13656.0  \n",
       "1     11545.0  \n",
       "2      3366.0  \n",
       "3       533.0  \n",
       "4       484.0  "
      ]
     },
     "execution_count": 13,
     "metadata": {},
     "output_type": "execute_result"
    }
   ],
   "source": [
    "monthscnty.head()"
   ]
  },
  {
   "cell_type": "markdown",
   "metadata": {},
   "source": [
    "## Quarters\n",
    "\n",
    "Originally each quarter's observations were split into columns. Now I want the quarter(1,2,3,4) to be stored as a column, and the type of observation ('Average Employment', 'Average Female Employment', 'Total Wages', 'Average Wage', 'Number of Establishments') to be split into columns. First split out the quarter value, then "
   ]
  },
  {
   "cell_type": "code",
   "execution_count": 14,
   "metadata": {},
   "outputs": [],
   "source": [
    "# create an empty column for quarters, cut the numeric value and place them into the quarter column\n",
    "quarterscnty['Quarter'] = np.nan\n",
    "quarterscnty.loc[quarterscnty['Time'].str.endswith(\"Qtr 1\"), \"Quarter\"] = \"1\"\n",
    "quarterscnty.loc[quarterscnty['Time'].str.endswith(\"Qtr 2\"), \"Quarter\"] = \"2\"\n",
    "quarterscnty.loc[quarterscnty['Time'].str.endswith(\"Qtr 3\"), \"Quarter\"] = \"3\"\n",
    "quarterscnty.loc[quarterscnty['Time'].str.endswith(\"Qtr 4\"), \"Quarter\"] = \"4\"\n",
    "quarterscnty['Time'] = quarterscnty['Time'].str[:-6]"
   ]
  },
  {
   "cell_type": "code",
   "execution_count": 15,
   "metadata": {},
   "outputs": [
    {
     "data": {
      "text/plain": [
       "array(['Average Employment', 'Average Female Employment', 'Average Wage',\n",
       "       'Number of Establishments', 'Total Wages'], dtype=object)"
      ]
     },
     "execution_count": 15,
     "metadata": {},
     "output_type": "execute_result"
    }
   ],
   "source": [
    "# Make sure there are not any weird mistakes\n",
    "pd.unique(quarterscnty['Time'])"
   ]
  },
  {
   "cell_type": "code",
   "execution_count": 16,
   "metadata": {},
   "outputs": [],
   "source": [
    "# Rename and reorder the columns\n",
    "quarterscnty.columns = ['Year', 'County', 'Type', 'Stat', 'Count', 'Quarter']\n",
    "quarterscnty = quarterscnty[['Year', 'Quarter', 'County', 'Type', 'Stat', 'Count', ]]"
   ]
  },
  {
   "cell_type": "code",
   "execution_count": 17,
   "metadata": {},
   "outputs": [],
   "source": [
    "quarterscnty = pd.pivot_table(quarterscnty, values='Count', index=['Year','Quarter','County','Type'], columns=['Stat'])\n",
    "quarterscnty = quarterscnty.reset_index() "
   ]
  },
  {
   "cell_type": "code",
   "execution_count": 18,
   "metadata": {},
   "outputs": [
    {
     "data": {
      "text/html": [
       "<div>\n",
       "<table border=\"1\" class=\"dataframe\">\n",
       "  <thead>\n",
       "    <tr style=\"text-align: right;\">\n",
       "      <th>Stat</th>\n",
       "      <th>Year</th>\n",
       "      <th>Quarter</th>\n",
       "      <th>County</th>\n",
       "      <th>Type</th>\n",
       "      <th>Average Employment</th>\n",
       "      <th>Average Female Employment</th>\n",
       "      <th>Average Wage</th>\n",
       "      <th>Number of Establishments</th>\n",
       "      <th>Total Wages</th>\n",
       "    </tr>\n",
       "  </thead>\n",
       "  <tbody>\n",
       "    <tr>\n",
       "      <th>0</th>\n",
       "      <td>2000</td>\n",
       "      <td>1</td>\n",
       "      <td>Addison County</td>\n",
       "      <td>Accommodation and food services</td>\n",
       "      <td>869.0</td>\n",
       "      <td>480.0</td>\n",
       "      <td>2901.0</td>\n",
       "      <td>71.0</td>\n",
       "      <td>2521.0</td>\n",
       "    </tr>\n",
       "    <tr>\n",
       "      <th>1</th>\n",
       "      <td>2000</td>\n",
       "      <td>1</td>\n",
       "      <td>Addison County</td>\n",
       "      <td>Administrative and waste services</td>\n",
       "      <td>165.0</td>\n",
       "      <td>63.0</td>\n",
       "      <td>5233.0</td>\n",
       "      <td>38.0</td>\n",
       "      <td>863.0</td>\n",
       "    </tr>\n",
       "    <tr>\n",
       "      <th>2</th>\n",
       "      <td>2000</td>\n",
       "      <td>1</td>\n",
       "      <td>Addison County</td>\n",
       "      <td>Agriculture, forestry, fishing and hunting</td>\n",
       "      <td>437.0</td>\n",
       "      <td>107.0</td>\n",
       "      <td>4957.0</td>\n",
       "      <td>61.0</td>\n",
       "      <td>2166.0</td>\n",
       "    </tr>\n",
       "    <tr>\n",
       "      <th>3</th>\n",
       "      <td>2000</td>\n",
       "      <td>1</td>\n",
       "      <td>Addison County</td>\n",
       "      <td>Arts, entertainment, and recreation</td>\n",
       "      <td>91.0</td>\n",
       "      <td>56.0</td>\n",
       "      <td>3601.0</td>\n",
       "      <td>12.0</td>\n",
       "      <td>329.0</td>\n",
       "    </tr>\n",
       "    <tr>\n",
       "      <th>4</th>\n",
       "      <td>2000</td>\n",
       "      <td>1</td>\n",
       "      <td>Addison County</td>\n",
       "      <td>Construction supersector</td>\n",
       "      <td>602.0</td>\n",
       "      <td>84.0</td>\n",
       "      <td>8348.0</td>\n",
       "      <td>138.0</td>\n",
       "      <td>5029.0</td>\n",
       "    </tr>\n",
       "  </tbody>\n",
       "</table>\n",
       "</div>"
      ],
      "text/plain": [
       "Stat  Year Quarter          County  \\\n",
       "0     2000       1  Addison County   \n",
       "1     2000       1  Addison County   \n",
       "2     2000       1  Addison County   \n",
       "3     2000       1  Addison County   \n",
       "4     2000       1  Addison County   \n",
       "\n",
       "Stat                                        Type  Average Employment  \\\n",
       "0                Accommodation and food services               869.0   \n",
       "1              Administrative and waste services               165.0   \n",
       "2     Agriculture, forestry, fishing and hunting               437.0   \n",
       "3            Arts, entertainment, and recreation                91.0   \n",
       "4                       Construction supersector               602.0   \n",
       "\n",
       "Stat  Average Female Employment  Average Wage  Number of Establishments  \\\n",
       "0                         480.0        2901.0                      71.0   \n",
       "1                          63.0        5233.0                      38.0   \n",
       "2                         107.0        4957.0                      61.0   \n",
       "3                          56.0        3601.0                      12.0   \n",
       "4                          84.0        8348.0                     138.0   \n",
       "\n",
       "Stat  Total Wages  \n",
       "0          2521.0  \n",
       "1           863.0  \n",
       "2          2166.0  \n",
       "3           329.0  \n",
       "4          5029.0  "
      ]
     },
     "execution_count": 18,
     "metadata": {},
     "output_type": "execute_result"
    }
   ],
   "source": [
    "quarterscnty.head()"
   ]
  },
  {
   "cell_type": "code",
   "execution_count": 19,
   "metadata": {
    "collapsed": true
   },
   "outputs": [],
   "source": [
    "annualcnty['Time'] = annualcnty['Time'].str[:-7]"
   ]
  },
  {
   "cell_type": "code",
   "execution_count": 20,
   "metadata": {
    "collapsed": true
   },
   "outputs": [],
   "source": [
    "# Rename and reorder the columns\n",
    "annualcnty.columns = ['Year', 'County', 'Type', 'Stat', 'Count']\n",
    "annualcnty = annualcnty[['Year',  'County', 'Type', 'Stat', 'Count' ]]"
   ]
  },
  {
   "cell_type": "code",
   "execution_count": 21,
   "metadata": {
    "collapsed": true
   },
   "outputs": [],
   "source": [
    "annualcnty = pd.pivot_table(annualcnty, values='Count', index=['Year','County','Type'], columns=['Stat'])\n",
    "annualcnty = annualcnty.reset_index() "
   ]
  },
  {
   "cell_type": "markdown",
   "metadata": {},
   "source": [
    "# Vermont Level Data"
   ]
  },
  {
   "cell_type": "code",
   "execution_count": 22,
   "metadata": {},
   "outputs": [
    {
     "data": {
      "text/html": [
       "<div>\n",
       "<table border=\"1\" class=\"dataframe\">\n",
       "  <thead>\n",
       "    <tr style=\"text-align: right;\">\n",
       "      <th></th>\n",
       "      <th>Apr</th>\n",
       "      <th>Aug</th>\n",
       "      <th>Average Employment Annual</th>\n",
       "      <th>Average Employment Qtr 1</th>\n",
       "      <th>Average Employment Qtr 2</th>\n",
       "      <th>Average Employment Qtr 3</th>\n",
       "      <th>Average Employment Qtr 4</th>\n",
       "      <th>Average Female Employment Annual</th>\n",
       "      <th>Average Female Employment Qtr 1</th>\n",
       "      <th>Average Female Employment Qtr 2</th>\n",
       "      <th>...</th>\n",
       "      <th>Number of Establishments Qtr 4</th>\n",
       "      <th>Oct</th>\n",
       "      <th>Sep</th>\n",
       "      <th>Total Wages Annual</th>\n",
       "      <th>Total Wages Qtr 1</th>\n",
       "      <th>Total Wages Qtr 2</th>\n",
       "      <th>Total Wages Qtr 3</th>\n",
       "      <th>Total Wages Qtr 4</th>\n",
       "      <th>Type</th>\n",
       "      <th>Year</th>\n",
       "    </tr>\n",
       "  </thead>\n",
       "  <tbody>\n",
       "    <tr>\n",
       "      <th>0</th>\n",
       "      <td>290568</td>\n",
       "      <td>293413</td>\n",
       "      <td>296468</td>\n",
       "      <td>293478</td>\n",
       "      <td>296038</td>\n",
       "      <td>294632</td>\n",
       "      <td>301722</td>\n",
       "      <td>na</td>\n",
       "      <td>na</td>\n",
       "      <td>na</td>\n",
       "      <td>...</td>\n",
       "      <td>23958</td>\n",
       "      <td>301137</td>\n",
       "      <td>299962</td>\n",
       "      <td>8575450</td>\n",
       "      <td>2067514</td>\n",
       "      <td>2128115</td>\n",
       "      <td>2076698</td>\n",
       "      <td>2303123</td>\n",
       "      <td>Total Covered -  all ownerships</td>\n",
       "      <td>2000</td>\n",
       "    </tr>\n",
       "    <tr>\n",
       "      <th>1</th>\n",
       "      <td>241513</td>\n",
       "      <td>253631</td>\n",
       "      <td>249122</td>\n",
       "      <td>244811</td>\n",
       "      <td>246679</td>\n",
       "      <td>252711</td>\n",
       "      <td>252288</td>\n",
       "      <td>115581</td>\n",
       "      <td>112692</td>\n",
       "      <td>115454</td>\n",
       "      <td>...</td>\n",
       "      <td>22276</td>\n",
       "      <td>251934</td>\n",
       "      <td>251854</td>\n",
       "      <td>7150813</td>\n",
       "      <td>1716961</td>\n",
       "      <td>1738357</td>\n",
       "      <td>1765630</td>\n",
       "      <td>1929865</td>\n",
       "      <td>Private ownership</td>\n",
       "      <td>2000</td>\n",
       "    </tr>\n",
       "    <tr>\n",
       "      <th>2</th>\n",
       "      <td>63132</td>\n",
       "      <td>67282</td>\n",
       "      <td>64803</td>\n",
       "      <td>61163</td>\n",
       "      <td>65030</td>\n",
       "      <td>67020</td>\n",
       "      <td>65999</td>\n",
       "      <td>16116</td>\n",
       "      <td>15213</td>\n",
       "      <td>16259</td>\n",
       "      <td>...</td>\n",
       "      <td>4327</td>\n",
       "      <td>66600</td>\n",
       "      <td>66739</td>\n",
       "      <td>2405516</td>\n",
       "      <td>578053</td>\n",
       "      <td>587003</td>\n",
       "      <td>596561</td>\n",
       "      <td>643899</td>\n",
       "      <td>Goods Producing domain</td>\n",
       "      <td>2000</td>\n",
       "    </tr>\n",
       "    <tr>\n",
       "      <th>3</th>\n",
       "      <td>3055</td>\n",
       "      <td>3456</td>\n",
       "      <td>3144</td>\n",
       "      <td>2700</td>\n",
       "      <td>3268</td>\n",
       "      <td>3428</td>\n",
       "      <td>3180</td>\n",
       "      <td>852</td>\n",
       "      <td>723</td>\n",
       "      <td>998</td>\n",
       "      <td>...</td>\n",
       "      <td>381</td>\n",
       "      <td>3373</td>\n",
       "      <td>3390</td>\n",
       "      <td>76224</td>\n",
       "      <td>16820</td>\n",
       "      <td>19047</td>\n",
       "      <td>20157</td>\n",
       "      <td>20201</td>\n",
       "      <td>Natural Resources and Mining supersector</td>\n",
       "      <td>2000</td>\n",
       "    </tr>\n",
       "    <tr>\n",
       "      <th>4</th>\n",
       "      <td>2117</td>\n",
       "      <td>2448</td>\n",
       "      <td>2206</td>\n",
       "      <td>1910</td>\n",
       "      <td>2297</td>\n",
       "      <td>2433</td>\n",
       "      <td>2185</td>\n",
       "      <td>739</td>\n",
       "      <td>618</td>\n",
       "      <td>882</td>\n",
       "      <td>...</td>\n",
       "      <td>311</td>\n",
       "      <td>2362</td>\n",
       "      <td>2394</td>\n",
       "      <td>43072</td>\n",
       "      <td>9575</td>\n",
       "      <td>10684</td>\n",
       "      <td>11508</td>\n",
       "      <td>11305</td>\n",
       "      <td>Agriculture, forestry, fishing and hunting</td>\n",
       "      <td>2000</td>\n",
       "    </tr>\n",
       "  </tbody>\n",
       "</table>\n",
       "<p>5 rows × 40 columns</p>\n",
       "</div>"
      ],
      "text/plain": [
       "      Apr     Aug Average Employment Annual Average Employment Qtr 1  \\\n",
       "0  290568  293413                    296468                   293478   \n",
       "1  241513  253631                    249122                   244811   \n",
       "2   63132   67282                     64803                    61163   \n",
       "3    3055    3456                      3144                     2700   \n",
       "4    2117    2448                      2206                     1910   \n",
       "\n",
       "  Average Employment Qtr 2 Average Employment Qtr 3 Average Employment Qtr 4  \\\n",
       "0                   296038                   294632                   301722   \n",
       "1                   246679                   252711                   252288   \n",
       "2                    65030                    67020                    65999   \n",
       "3                     3268                     3428                     3180   \n",
       "4                     2297                     2433                     2185   \n",
       "\n",
       "  Average Female Employment Annual Average Female Employment Qtr 1  \\\n",
       "0                               na                              na   \n",
       "1                           115581                          112692   \n",
       "2                            16116                           15213   \n",
       "3                              852                             723   \n",
       "4                              739                             618   \n",
       "\n",
       "  Average Female Employment Qtr 2  ...  Number of Establishments Qtr 4  \\\n",
       "0                              na  ...                           23958   \n",
       "1                          115454  ...                           22276   \n",
       "2                           16259  ...                            4327   \n",
       "3                             998  ...                             381   \n",
       "4                             882  ...                             311   \n",
       "\n",
       "      Oct     Sep Total Wages Annual Total Wages Qtr 1 Total Wages Qtr 2  \\\n",
       "0  301137  299962            8575450           2067514           2128115   \n",
       "1  251934  251854            7150813           1716961           1738357   \n",
       "2   66600   66739            2405516            578053            587003   \n",
       "3    3373    3390              76224             16820             19047   \n",
       "4    2362    2394              43072              9575             10684   \n",
       "\n",
       "  Total Wages Qtr 3 Total Wages Qtr 4  \\\n",
       "0           2076698           2303123   \n",
       "1           1765630           1929865   \n",
       "2            596561            643899   \n",
       "3             20157             20201   \n",
       "4             11508             11305   \n",
       "\n",
       "                                         Type  Year  \n",
       "0             Total Covered -  all ownerships  2000  \n",
       "1                           Private ownership  2000  \n",
       "2                      Goods Producing domain  2000  \n",
       "3    Natural Resources and Mining supersector  2000  \n",
       "4  Agriculture, forestry, fishing and hunting  2000  \n",
       "\n",
       "[5 rows x 40 columns]"
      ]
     },
     "execution_count": 22,
     "metadata": {},
     "output_type": "execute_result"
    }
   ],
   "source": [
    "cumllaborvt.head()"
   ]
  },
  {
   "cell_type": "code",
   "execution_count": 23,
   "metadata": {},
   "outputs": [
    {
     "data": {
      "text/html": [
       "<div>\n",
       "<table border=\"1\" class=\"dataframe\">\n",
       "  <thead>\n",
       "    <tr style=\"text-align: right;\">\n",
       "      <th></th>\n",
       "      <th>Year</th>\n",
       "      <th>County</th>\n",
       "      <th>Type</th>\n",
       "      <th>Time</th>\n",
       "      <th>Count</th>\n",
       "    </tr>\n",
       "  </thead>\n",
       "  <tbody>\n",
       "    <tr>\n",
       "      <th>0</th>\n",
       "      <td>2000</td>\n",
       "      <td>Vermont</td>\n",
       "      <td>Total Covered -  all ownerships</td>\n",
       "      <td>Apr</td>\n",
       "      <td>290568</td>\n",
       "    </tr>\n",
       "    <tr>\n",
       "      <th>1</th>\n",
       "      <td>2000</td>\n",
       "      <td>Vermont</td>\n",
       "      <td>Private ownership</td>\n",
       "      <td>Apr</td>\n",
       "      <td>241513</td>\n",
       "    </tr>\n",
       "    <tr>\n",
       "      <th>2</th>\n",
       "      <td>2000</td>\n",
       "      <td>Vermont</td>\n",
       "      <td>Goods Producing domain</td>\n",
       "      <td>Apr</td>\n",
       "      <td>63132</td>\n",
       "    </tr>\n",
       "    <tr>\n",
       "      <th>3</th>\n",
       "      <td>2000</td>\n",
       "      <td>Vermont</td>\n",
       "      <td>Natural Resources and Mining supersector</td>\n",
       "      <td>Apr</td>\n",
       "      <td>3055</td>\n",
       "    </tr>\n",
       "    <tr>\n",
       "      <th>4</th>\n",
       "      <td>2000</td>\n",
       "      <td>Vermont</td>\n",
       "      <td>Agriculture, forestry, fishing and hunting</td>\n",
       "      <td>Apr</td>\n",
       "      <td>2117</td>\n",
       "    </tr>\n",
       "  </tbody>\n",
       "</table>\n",
       "</div>"
      ],
      "text/plain": [
       "   Year   County                                        Type Time   Count\n",
       "0  2000  Vermont             Total Covered -  all ownerships  Apr  290568\n",
       "1  2000  Vermont                           Private ownership  Apr  241513\n",
       "2  2000  Vermont                      Goods Producing domain  Apr   63132\n",
       "3  2000  Vermont    Natural Resources and Mining supersector  Apr    3055\n",
       "4  2000  Vermont  Agriculture, forestry, fishing and hunting  Apr    2117"
      ]
     },
     "execution_count": 23,
     "metadata": {},
     "output_type": "execute_result"
    }
   ],
   "source": [
    "cumllaborvt = pd.melt(cumllaborvt,id_vars=['Year','County','Type'],var_name='Time', value_name='Count')\n",
    "cumllaborvt.head()"
   ]
  },
  {
   "cell_type": "code",
   "execution_count": 24,
   "metadata": {
    "collapsed": true
   },
   "outputs": [],
   "source": [
    "# There are missing values or occasions where the occurance is too small to show, each we are replacing with NaNs\n",
    "cumllaborvt = cumllaborvt.replace('(c)', np.nan)\n",
    "cumllaborvt = cumllaborvt.replace('-', np.nan)\n",
    "cumllaborvt = cumllaborvt.replace('na', np.nan)\n",
    "cumllaborvt = cumllaborvt.replace(' ', np.nan)\n",
    "cumllaborvt = cumllaborvt.replace('<1', 1)\n",
    "\n",
    "# Numeric was stored as a string and needed to be converted\n",
    "cumllaborvt['Count'] = pd.to_numeric(cumllaborvt['Count'])"
   ]
  },
  {
   "cell_type": "code",
   "execution_count": 25,
   "metadata": {
    "collapsed": true
   },
   "outputs": [],
   "source": [
    "# Creates the three data sets by type of time period\n",
    "monthsvt = cumllaborvt[cumllaborvt['Time'].isin(monthlist)].copy()\n",
    "quartersvt = cumllaborvt[cumllaborvt['Time'].isin(quarterslist)].copy()\n",
    "annualvt = cumllaborvt[cumllaborvt['Time'].isin(annuallist)].copy()"
   ]
  },
  {
   "cell_type": "code",
   "execution_count": 26,
   "metadata": {},
   "outputs": [
    {
     "data": {
      "text/html": [
       "<div>\n",
       "<table border=\"1\" class=\"dataframe\">\n",
       "  <thead>\n",
       "    <tr style=\"text-align: right;\">\n",
       "      <th></th>\n",
       "      <th>Year</th>\n",
       "      <th>County</th>\n",
       "      <th>Type</th>\n",
       "      <th>Time</th>\n",
       "      <th>Count</th>\n",
       "    </tr>\n",
       "  </thead>\n",
       "  <tbody>\n",
       "    <tr>\n",
       "      <th>0</th>\n",
       "      <td>2000</td>\n",
       "      <td>Vermont</td>\n",
       "      <td>Total Covered -  all ownerships</td>\n",
       "      <td>Apr</td>\n",
       "      <td>290568.0</td>\n",
       "    </tr>\n",
       "    <tr>\n",
       "      <th>1</th>\n",
       "      <td>2000</td>\n",
       "      <td>Vermont</td>\n",
       "      <td>Private ownership</td>\n",
       "      <td>Apr</td>\n",
       "      <td>241513.0</td>\n",
       "    </tr>\n",
       "    <tr>\n",
       "      <th>2</th>\n",
       "      <td>2000</td>\n",
       "      <td>Vermont</td>\n",
       "      <td>Goods Producing domain</td>\n",
       "      <td>Apr</td>\n",
       "      <td>63132.0</td>\n",
       "    </tr>\n",
       "    <tr>\n",
       "      <th>3</th>\n",
       "      <td>2000</td>\n",
       "      <td>Vermont</td>\n",
       "      <td>Natural Resources and Mining supersector</td>\n",
       "      <td>Apr</td>\n",
       "      <td>3055.0</td>\n",
       "    </tr>\n",
       "    <tr>\n",
       "      <th>4</th>\n",
       "      <td>2000</td>\n",
       "      <td>Vermont</td>\n",
       "      <td>Agriculture, forestry, fishing and hunting</td>\n",
       "      <td>Apr</td>\n",
       "      <td>2117.0</td>\n",
       "    </tr>\n",
       "  </tbody>\n",
       "</table>\n",
       "</div>"
      ],
      "text/plain": [
       "   Year   County                                        Type Time     Count\n",
       "0  2000  Vermont             Total Covered -  all ownerships  Apr  290568.0\n",
       "1  2000  Vermont                           Private ownership  Apr  241513.0\n",
       "2  2000  Vermont                      Goods Producing domain  Apr   63132.0\n",
       "3  2000  Vermont    Natural Resources and Mining supersector  Apr    3055.0\n",
       "4  2000  Vermont  Agriculture, forestry, fishing and hunting  Apr    2117.0"
      ]
     },
     "execution_count": 26,
     "metadata": {},
     "output_type": "execute_result"
    }
   ],
   "source": [
    "monthsvt.head()"
   ]
  },
  {
   "cell_type": "code",
   "execution_count": 27,
   "metadata": {},
   "outputs": [
    {
     "data": {
      "text/html": [
       "<div>\n",
       "<table border=\"1\" class=\"dataframe\">\n",
       "  <thead>\n",
       "    <tr style=\"text-align: right;\">\n",
       "      <th></th>\n",
       "      <th>Year</th>\n",
       "      <th>County</th>\n",
       "      <th>Type</th>\n",
       "      <th>Time</th>\n",
       "      <th>Count</th>\n",
       "    </tr>\n",
       "  </thead>\n",
       "  <tbody>\n",
       "    <tr>\n",
       "      <th>1890</th>\n",
       "      <td>2000</td>\n",
       "      <td>Vermont</td>\n",
       "      <td>Total Covered -  all ownerships</td>\n",
       "      <td>Average Employment Qtr 1</td>\n",
       "      <td>293478.0</td>\n",
       "    </tr>\n",
       "    <tr>\n",
       "      <th>1891</th>\n",
       "      <td>2000</td>\n",
       "      <td>Vermont</td>\n",
       "      <td>Private ownership</td>\n",
       "      <td>Average Employment Qtr 1</td>\n",
       "      <td>244811.0</td>\n",
       "    </tr>\n",
       "    <tr>\n",
       "      <th>1892</th>\n",
       "      <td>2000</td>\n",
       "      <td>Vermont</td>\n",
       "      <td>Goods Producing domain</td>\n",
       "      <td>Average Employment Qtr 1</td>\n",
       "      <td>61163.0</td>\n",
       "    </tr>\n",
       "    <tr>\n",
       "      <th>1893</th>\n",
       "      <td>2000</td>\n",
       "      <td>Vermont</td>\n",
       "      <td>Natural Resources and Mining supersector</td>\n",
       "      <td>Average Employment Qtr 1</td>\n",
       "      <td>2700.0</td>\n",
       "    </tr>\n",
       "    <tr>\n",
       "      <th>1894</th>\n",
       "      <td>2000</td>\n",
       "      <td>Vermont</td>\n",
       "      <td>Agriculture, forestry, fishing and hunting</td>\n",
       "      <td>Average Employment Qtr 1</td>\n",
       "      <td>1910.0</td>\n",
       "    </tr>\n",
       "  </tbody>\n",
       "</table>\n",
       "</div>"
      ],
      "text/plain": [
       "      Year   County                                        Type  \\\n",
       "1890  2000  Vermont             Total Covered -  all ownerships   \n",
       "1891  2000  Vermont                           Private ownership   \n",
       "1892  2000  Vermont                      Goods Producing domain   \n",
       "1893  2000  Vermont    Natural Resources and Mining supersector   \n",
       "1894  2000  Vermont  Agriculture, forestry, fishing and hunting   \n",
       "\n",
       "                          Time     Count  \n",
       "1890  Average Employment Qtr 1  293478.0  \n",
       "1891  Average Employment Qtr 1  244811.0  \n",
       "1892  Average Employment Qtr 1   61163.0  \n",
       "1893  Average Employment Qtr 1    2700.0  \n",
       "1894  Average Employment Qtr 1    1910.0  "
      ]
     },
     "execution_count": 27,
     "metadata": {},
     "output_type": "execute_result"
    }
   ],
   "source": [
    "quartersvt.head()"
   ]
  },
  {
   "cell_type": "code",
   "execution_count": 28,
   "metadata": {},
   "outputs": [
    {
     "data": {
      "text/html": [
       "<div>\n",
       "<table border=\"1\" class=\"dataframe\">\n",
       "  <thead>\n",
       "    <tr style=\"text-align: right;\">\n",
       "      <th></th>\n",
       "      <th>Year</th>\n",
       "      <th>County</th>\n",
       "      <th>Type</th>\n",
       "      <th>Time</th>\n",
       "      <th>Count</th>\n",
       "    </tr>\n",
       "  </thead>\n",
       "  <tbody>\n",
       "    <tr>\n",
       "      <th>1260</th>\n",
       "      <td>2000</td>\n",
       "      <td>Vermont</td>\n",
       "      <td>Total Covered -  all ownerships</td>\n",
       "      <td>Average Employment Annual</td>\n",
       "      <td>296468.0</td>\n",
       "    </tr>\n",
       "    <tr>\n",
       "      <th>1261</th>\n",
       "      <td>2000</td>\n",
       "      <td>Vermont</td>\n",
       "      <td>Private ownership</td>\n",
       "      <td>Average Employment Annual</td>\n",
       "      <td>249122.0</td>\n",
       "    </tr>\n",
       "    <tr>\n",
       "      <th>1262</th>\n",
       "      <td>2000</td>\n",
       "      <td>Vermont</td>\n",
       "      <td>Goods Producing domain</td>\n",
       "      <td>Average Employment Annual</td>\n",
       "      <td>64803.0</td>\n",
       "    </tr>\n",
       "    <tr>\n",
       "      <th>1263</th>\n",
       "      <td>2000</td>\n",
       "      <td>Vermont</td>\n",
       "      <td>Natural Resources and Mining supersector</td>\n",
       "      <td>Average Employment Annual</td>\n",
       "      <td>3144.0</td>\n",
       "    </tr>\n",
       "    <tr>\n",
       "      <th>1264</th>\n",
       "      <td>2000</td>\n",
       "      <td>Vermont</td>\n",
       "      <td>Agriculture, forestry, fishing and hunting</td>\n",
       "      <td>Average Employment Annual</td>\n",
       "      <td>2206.0</td>\n",
       "    </tr>\n",
       "  </tbody>\n",
       "</table>\n",
       "</div>"
      ],
      "text/plain": [
       "      Year   County                                        Type  \\\n",
       "1260  2000  Vermont             Total Covered -  all ownerships   \n",
       "1261  2000  Vermont                           Private ownership   \n",
       "1262  2000  Vermont                      Goods Producing domain   \n",
       "1263  2000  Vermont    Natural Resources and Mining supersector   \n",
       "1264  2000  Vermont  Agriculture, forestry, fishing and hunting   \n",
       "\n",
       "                           Time     Count  \n",
       "1260  Average Employment Annual  296468.0  \n",
       "1261  Average Employment Annual  249122.0  \n",
       "1262  Average Employment Annual   64803.0  \n",
       "1263  Average Employment Annual    3144.0  \n",
       "1264  Average Employment Annual    2206.0  "
      ]
     },
     "execution_count": 28,
     "metadata": {},
     "output_type": "execute_result"
    }
   ],
   "source": [
    "annualvt.head()"
   ]
  },
  {
   "cell_type": "code",
   "execution_count": 29,
   "metadata": {},
   "outputs": [],
   "source": [
    "monthsvt.columns = ['Year', 'Location', 'Type', 'Month', 'Employment']\n",
    "monthsvt = monthsvt[['Year', 'Month','Location', 'Type', 'Employment']]\n",
    "monthsvt.head()\n",
    "\n",
    "monthsvt['Month'].replace(months, inplace=True)"
   ]
  },
  {
   "cell_type": "code",
   "execution_count": 30,
   "metadata": {
    "collapsed": true
   },
   "outputs": [],
   "source": [
    "# create an empty column for quarters, cut the numeric value and place them into the quarter column\n",
    "quartersvt['Quarter'] = np.nan\n",
    "quartersvt.loc[quartersvt['Time'].str.endswith(\"Qtr 1\"), \"Quarter\"] = \"1\"\n",
    "quartersvt.loc[quartersvt['Time'].str.endswith(\"Qtr 2\"), \"Quarter\"] = \"2\"\n",
    "quartersvt.loc[quartersvt['Time'].str.endswith(\"Qtr 3\"), \"Quarter\"] = \"3\"\n",
    "quartersvt.loc[quartersvt['Time'].str.endswith(\"Qtr 4\"), \"Quarter\"] = \"4\"\n",
    "quartersvt['Time'] = quartersvt['Time'].str[:-6]"
   ]
  },
  {
   "cell_type": "code",
   "execution_count": 31,
   "metadata": {},
   "outputs": [],
   "source": [
    "# Rename and reorder the columns\n",
    "quartersvt.columns = ['Year', 'Location', 'Type', 'Stat', 'Count', 'Quarter']\n",
    "quartersvt = quartersvt[['Year', 'Quarter', 'Location', 'Type', 'Stat', 'Count', ]]"
   ]
  },
  {
   "cell_type": "code",
   "execution_count": 32,
   "metadata": {},
   "outputs": [],
   "source": [
    "quartersvt = pd.pivot_table(quartersvt, values='Count', index=['Year','Quarter','Location','Type'], columns=['Stat'])\n",
    "quartersvt = quartersvt.reset_index() "
   ]
  },
  {
   "cell_type": "code",
   "execution_count": 33,
   "metadata": {},
   "outputs": [],
   "source": [
    "annualvt['Time'] = annualvt['Time'].str[:-7]"
   ]
  },
  {
   "cell_type": "code",
   "execution_count": 34,
   "metadata": {
    "collapsed": true
   },
   "outputs": [],
   "source": [
    "# Rename and reorder the columns\n",
    "annualvt.columns = ['Year', 'Location', 'Type', 'Stat', 'Count']\n",
    "annualvt = annualvt[['Year',  'Location', 'Type', 'Stat', 'Count' ]]"
   ]
  },
  {
   "cell_type": "code",
   "execution_count": 35,
   "metadata": {},
   "outputs": [],
   "source": [
    "annualvt = pd.pivot_table(annualvt, values='Count', index=['Year','Location','Type'], columns=['Stat'])\n",
    "annualvt = annualvt.reset_index() "
   ]
  },
  {
   "cell_type": "code",
   "execution_count": 36,
   "metadata": {},
   "outputs": [],
   "source": [
    "monthscnty.to_csv(\"monthlylaborcnty.csv\", index=False)\n",
    "quarterscnty.to_csv(\"quarterlylaborcnty.csv\", index=False)\n",
    "annualcnty.to_csv(\"annuallaborcnty.csv\", index=False)"
   ]
  },
  {
   "cell_type": "code",
   "execution_count": 37,
   "metadata": {
    "collapsed": true
   },
   "outputs": [],
   "source": [
    "monthsvt.to_csv(\"monthlylaborvt.csv\", index=False)\n",
    "quartersvt.to_csv(\"quarterlylaborvt.csv\", index=False)\n",
    "annualvt.to_csv(\"annuallaborvt.csv\", index=False)"
   ]
  }
 ],
 "metadata": {
  "kernelspec": {
   "display_name": "Python 3",
   "language": "python",
   "name": "python3"
  },
  "language_info": {
   "codemirror_mode": {
    "name": "ipython",
    "version": 3
   },
   "file_extension": ".py",
   "mimetype": "text/x-python",
   "name": "python",
   "nbconvert_exporter": "python",
   "pygments_lexer": "ipython3",
   "version": "3.6.2"
  }
 },
 "nbformat": 4,
 "nbformat_minor": 2
}
