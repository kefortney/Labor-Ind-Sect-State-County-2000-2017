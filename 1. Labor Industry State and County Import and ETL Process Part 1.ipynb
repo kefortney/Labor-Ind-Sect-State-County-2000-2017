{
 "cells": [
  {
   "cell_type": "code",
   "execution_count": 1,
   "metadata": {
    "collapsed": true
   },
   "outputs": [],
   "source": [
    "import requests\n",
    "import pandas as pd\n",
    "import os \n",
    "import glob\n",
    "import numpy as np"
   ]
  },
  {
   "cell_type": "code",
   "execution_count": 2,
   "metadata": {
    "collapsed": true
   },
   "outputs": [],
   "source": [
    "year = '2017'"
   ]
  },
  {
   "cell_type": "code",
   "execution_count": 3,
   "metadata": {
    "collapsed": true
   },
   "outputs": [],
   "source": [
    "urllist = [\"http://www.vtlmi.info/public/qcew/vtqcewytd_cty2017.xls\",\n",
    "           \"http://www.vtlmi.info/public/qcew/vtqcewytd_cty2016.xls\",\n",
    "           \"http://www.vtlmi.info/public/qcew/vtqcewytd_cty2015.xls\",\n",
    "           \"http://www.vtlmi.info/public/qcew/vtqcewytd_cty2014.xls\",\n",
    "           \"http://www.vtlmi.info/public/qcew/vtqcewytd_cty2013.xls\",\n",
    "           \"http://www.vtlmi.info/public/qcew/vtqcewytd_cty2012.xls\",\n",
    "           \"http://www.vtlmi.info/public/qcew/vtqcewytd_cty2011.xls\",\n",
    "           \"http://www.vtlmi.info/public/qcew/vtqcewytd_cty2010.xls\",\n",
    "           \"http://www.vtlmi.info/public/qcew/vtqcewytd_cty2009.xls\",\n",
    "           \"http://www.vtlmi.info/public/qcew/vtqcewytd_cty2008.xls\",\n",
    "           \"http://www.vtlmi.info/public/qcew/vtqcewytd_cty2007.xls\",\n",
    "           \"http://www.vtlmi.info/public/qcew/vtqcewytd_cty2006.xls\",\n",
    "           \"http://www.vtlmi.info/public/qcew/vtqcewytd_cty2005.xls\",\n",
    "           \"http://www.vtlmi.info/public/qcew/vtqcewytd_cty2004.xls\",\n",
    "           \"http://www.vtlmi.info/public/qcew/vtqcewytd_cty2003.xls\",\n",
    "           \"http://www.vtlmi.info/public/qcew/vtqcewytd_cty2002.xls\",\n",
    "           \"http://www.vtlmi.info/public/qcew/vtqcewytd_cty2001.xls\",\n",
    "           \"http://www.vtlmi.info/public/qcew/vtqcewytd_cty2000.xls\"\n",
    "          ]"
   ]
  },
  {
   "cell_type": "code",
   "execution_count": 4,
   "metadata": {
    "collapsed": true
   },
   "outputs": [],
   "source": [
    "# This is to pull all the files\n",
    "#for x in urllist:\n",
    "#    resp = requests.get(x)\n",
    "#    output = open(x[-11:], 'wb')\n",
    "#    output.write(resp.content)\n",
    "#    output.close()"
   ]
  },
  {
   "cell_type": "code",
   "execution_count": 5,
   "metadata": {
    "collapsed": true
   },
   "outputs": [],
   "source": [
    "glob.glob('./*.xls')\n",
    "doclist = glob.glob('./*.xls')"
   ]
  },
  {
   "cell_type": "code",
   "execution_count": 6,
   "metadata": {
    "collapsed": true
   },
   "outputs": [],
   "source": [
    "# Imports the running dataset which the year selected will be added\n",
    "if os.path.isfile('cumllaborvt.csv'):\n",
    "    cumllaborvt = pd.read_csv(\"cumllaborvt.csv\")\n",
    "else:\n",
    "    cumllaborvt =  pd.DataFrame()\n",
    "    \n",
    "if os.path.isfile('cumllaborcnty.csv'):\n",
    "    cumllaborcnty = pd.read_csv(\"cumllaborcnty.csv\")\n",
    "else:\n",
    "    cumllaborcnty =  pd.DataFrame()"
   ]
  },
  {
   "cell_type": "code",
   "execution_count": 7,
   "metadata": {
    "collapsed": true
   },
   "outputs": [],
   "source": [
    "# Created a list of years\n",
    "yearlist = []\n",
    "\n",
    "for x in doclist:\n",
    "    yearlist.append(x[-8:-4])"
   ]
  },
  {
   "cell_type": "code",
   "execution_count": 8,
   "metadata": {},
   "outputs": [
    {
     "name": "stdout",
     "output_type": "stream",
     "text": [
      "['County Areas', 'Vermont', 'Addison', 'Bennington', 'Caledonia', 'Chittenden', 'Essex', 'Franklin', 'Grand Isle', 'Lamoille', 'Orange', 'Orleans', 'Rutland', 'Washington', 'Windham', 'Windsor', 'All Other']\n"
     ]
    }
   ],
   "source": [
    "# Imports excel file and gives list of sheets\n",
    "data = pd.ExcelFile('cty'+year+'.xls')\n",
    "colList = data.sheet_names\n",
    "\n",
    "print(colList)"
   ]
  },
  {
   "cell_type": "code",
   "execution_count": 9,
   "metadata": {
    "collapsed": true
   },
   "outputs": [],
   "source": [
    "sheetlist = ['Vermont', 'Addison', 'Bennington', 'Caledonia', 'Chittenden', 'Essex', 'Franklin', 'Grand Isle', \n",
    "             'Lamoille', 'Orange', 'Orleans', 'Rutland', 'Washington', 'Windham', 'Windsor', 'All Other']\n",
    "\n",
    "vermont = data.parse('Vermont', skiprows=6)\n",
    "addison = data.parse('Addison', skiprows=6)\n",
    "bennington = data.parse('Bennington', skiprows=6)\n",
    "caledonia = data.parse('Caledonia', skiprows=6)\n",
    "chittenden = data.parse('Chittenden', skiprows=6)\n",
    "essex = data.parse('Essex', skiprows=6)\n",
    "franklin = data.parse('Franklin', skiprows=6)\n",
    "grandisle = data.parse('Grand Isle', skiprows=6)\n",
    "lamoille = data.parse('Lamoille', skiprows=6)\n",
    "orange = data.parse('Orange', skiprows=6)\n",
    "orleans = data.parse('Orleans', skiprows=6)\n",
    "rutland = data.parse('Rutland', skiprows=6)\n",
    "washington = data.parse('Washington', skiprows=6)\n",
    "windham = data.parse('Windham', skiprows=6)\n",
    "windsor = data.parse('Windsor', skiprows=6)\n",
    "allother = data.parse('All Other', skiprows=6)\n",
    "\n",
    "datalist = [vermont, addison, bennington, caledonia, chittenden, essex, franklin, grandisle, lamoille, orange, orleans, rutland, \n",
    "             washington, windham, windsor, allother]"
   ]
  },
  {
   "cell_type": "code",
   "execution_count": 10,
   "metadata": {
    "collapsed": true
   },
   "outputs": [],
   "source": [
    "locations = {'Vermont':None, 'Addison':None, 'Bennington':None, 'Caledonia':None, 'Chittenden':None, \n",
    "             'Essex':None, 'Franklin':None, 'Grand Isle':None, 'Lamoille':None, 'Orange':None, 'Orleans':None,\n",
    "             'Rutland':None, 'Washington':None, 'Windham':None, 'Windsor':None, 'All Other':None}\n",
    "\n",
    "for item in locations.keys():\n",
    "    locations[item] = data.parse(item, skiprows=6)"
   ]
  },
  {
   "cell_type": "code",
   "execution_count": 11,
   "metadata": {
    "collapsed": true
   },
   "outputs": [],
   "source": [
    "for item in locations.values():\n",
    "    item['County'] = item.iloc[0,0]"
   ]
  },
  {
   "cell_type": "code",
   "execution_count": 12,
   "metadata": {
    "collapsed": true
   },
   "outputs": [],
   "source": [
    "locationYear = {}\n",
    "\n",
    "for year in yearlist:\n",
    "    locationYear[year] = pd.DataFrame()"
   ]
  },
  {
   "cell_type": "code",
   "execution_count": 13,
   "metadata": {},
   "outputs": [],
   "source": [
    "for item in locations.values():\n",
    "    locationYear[year].append(item)"
   ]
  },
  {
   "cell_type": "code",
   "execution_count": 14,
   "metadata": {},
   "outputs": [],
   "source": [
    "master = pd.concat(datalist, ignore_index=True)"
   ]
  },
  {
   "cell_type": "code",
   "execution_count": 15,
   "metadata": {
    "collapsed": true
   },
   "outputs": [],
   "source": [
    "collist1 = ['Type', 'Jan', 'Feb', 'Mar', 'Apr', 'May', 'Jun', 'Jul', 'Aug','Sep', 'Oct', 'Nov', 'Dec', \n",
    "           'Average Employment Qtr 1', 'Average Employment Qtr 2', 'Average Employment Qtr 3', 'Average Employment Qtr 4', 'Average Employment Annual',\n",
    "           'Average Female Employment Qtr 1', 'Average Female Employment Qtr 2', 'Average Female Employment Qtr 3', 'Average Female Employment Qtr 4', 'Average Female Employment Annual',\n",
    "           'Total Wages Qtr 1', 'Total Wages Qtr 2', 'Total Wages Qtr 3', 'Total Wages Qtr 4', 'Total Wages Annual',\n",
    "           'Average Wage Qtr 1','Average Wage Qtr 2', 'Average Wage Qtr 3', 'Average Wage Qtr 4', 'Average Wage Annual',\n",
    "           'Number of Establishments Qtr 1', 'Number of Establishments Qtr 2', 'Number of Establishments Qtr 3', 'Number of Establishments Qtr 4', 'Number of Establishments Annual']\n",
    "\n",
    "collist2 = ['Type', 'Jan', 'Feb', 'Mar', 'Apr', 'May', 'Jun', 'Jul', 'Aug','Sep', 'Oct', 'Nov', 'Dec', \n",
    "              'Average Employment Qtr 1', 'Average Employment Qtr 2', 'Average Employment Qtr 3', 'Average Employment Qtr 4', 'Average Employment Annual',\n",
    "              'Total Wages Qtr 1', 'Total Wages Qtr 2', 'Total Wages Qtr 3', 'Total Wages Qtr 4', 'Total Wages Annual',\n",
    "              'Average Wage Qtr 1','Average Wage Qtr 2', 'Average Wage Qtr 3', 'Average Wage Qtr 4', 'Average Wage Annual',\n",
    "              'Number of Establishments Qtr 1', 'Number of Establishments Qtr 2', 'Number of Establishments Qtr 3', 'Number of Establishments Qtr 4', 'Number of Establishments Annual']\n",
    "\n",
    "def changeheader(data):\n",
    "    if len(data.columns) == 38:\n",
    "        data.columns = collist1\n",
    "    elif len(data.columns) == 33:\n",
    "        data.columns = collist2\n",
    "        data['Average Female Employment Qtr 1'] = np.nan\n",
    "        data['Average Female Employment Qtr 2'] = np.nan\n",
    "        data['Average Female Employment Qtr 3'] = np.nan\n",
    "        data['Average Female Employment Qtr 4'] = np.nan\n",
    "        data['Average Female Employment Annual'] = np.nan\n",
    "           "
   ]
  },
  {
   "cell_type": "code",
   "execution_count": 16,
   "metadata": {
    "collapsed": true
   },
   "outputs": [],
   "source": [
    "for x in datalist:\n",
    "    changeheader(x)\n",
    "    x['Year'] = year\n",
    "    x['County'] = x.iloc[0,0]"
   ]
  },
  {
   "cell_type": "code",
   "execution_count": 17,
   "metadata": {},
   "outputs": [
    {
     "data": {
      "text/plain": [
       "(656, 40)"
      ]
     },
     "execution_count": 17,
     "metadata": {},
     "output_type": "execute_result"
    }
   ],
   "source": [
    "master = pd.concat(datalist, ignore_index=True)\n",
    "master.shape"
   ]
  },
  {
   "cell_type": "code",
   "execution_count": 18,
   "metadata": {
    "collapsed": true
   },
   "outputs": [],
   "source": [
    "# Removes all NA rows and rows that contain footnotes or count names as these had individual rows without values\n",
    "exclude = ['nan', '(c) = data can not be released, does not meet confidentiality standards', \n",
    "           '- = zero employment, wages or establishments','na = data is not available', 'released: November 2015',\n",
    "           'Addison County', 'Vermont','Bennington County', 'Caledonia County', 'Essex County', 'Franklin County', \n",
    "           'Grand Isle County', 'Lamoille County', 'Orange County', 'Orleans County', 'Rutland County', 'Washington County',\n",
    "           'Windham County','Windsor County', 'All Other county']\n",
    "    \n",
    "master = master.loc[~master['Type'].isin(exclude)]\n",
    "master = master.loc[master['Type'].notnull()]\n",
    "\n",
    "# removes all leading whitespaces on the type name, indentation was used to show hierachy in the original file\n",
    "master['Type'] = master['Type'].str.lstrip()"
   ]
  },
  {
   "cell_type": "code",
   "execution_count": 19,
   "metadata": {},
   "outputs": [],
   "source": [
    "def addemptyheader(data):\n",
    "    if len(data.columns) == 38:\n",
    "        data.columns = collist1\n",
    "    else:\n",
    "        data.columns = collist2\n",
    "        \n",
    "master = master[['Year', 'County','Type', 'Jan', 'Feb', 'Mar', 'Apr', 'May', 'Jun', 'Jul', 'Aug', 'Sep','Oct', 'Nov', 'Dec', \n",
    "       'Average Employment Qtr 1','Average Employment Qtr 2', 'Average Employment Qtr 3','Average Employment Qtr 4', 'Average Employment Annual',\n",
    "       'Average Female Employment Qtr 1', 'Average Female Employment Qtr 2','Average Female Employment Qtr 3', 'Average Female Employment Qtr 4','Average Female Employment Annual', \n",
    "       'Total Wages Qtr 1','Total Wages Qtr 2', 'Total Wages Qtr 3', 'Total Wages Qtr 4', 'Total Wages Annual',\n",
    "       'Average Wage Qtr 1', 'Average Wage Qtr 2', 'Average Wage Qtr 3', 'Average Wage Qtr 4', 'Average Wage Annual',\n",
    "       'Number of Establishments Qtr 1', 'Number of Establishments Qtr 2','Number of Establishments Qtr 3', 'Number of Establishments Qtr 4','Number of Establishments Annual'\n",
    "      ]]"
   ]
  },
  {
   "cell_type": "code",
   "execution_count": 20,
   "metadata": {
    "collapsed": true
   },
   "outputs": [],
   "source": [
    "mastercnty = master[master['County'] != 'Vermont']\n",
    "\n",
    "mastervt = master[master['County'] == 'Vermont']"
   ]
  },
  {
   "cell_type": "code",
   "execution_count": 21,
   "metadata": {
    "collapsed": true
   },
   "outputs": [],
   "source": [
    "if cumllaborcnty.empty:\n",
    "    cumllaborcnty = mastercnty\n",
    "else:\n",
    "    cumllaborcnty = cumllaborcnty.append(mastercnty, ignore_index=True)\n",
    "    \n",
    "if cumllaborvt.empty:\n",
    "    cumllaborvt = mastervt\n",
    "else:\n",
    "    cumllaborvt = cumllaborvt.append(mastervt, ignore_index=True)"
   ]
  },
  {
   "cell_type": "code",
   "execution_count": 22,
   "metadata": {
    "collapsed": true
   },
   "outputs": [],
   "source": [
    "#cumllaborcnty.to_csv(\"cumllaborcnty.csv\", index=False)\n",
    "#cumllaborvt.to_csv(\"cumllaborvt.csv\", index=False)"
   ]
  }
 ],
 "metadata": {
  "kernelspec": {
   "display_name": "Python 3",
   "language": "python",
   "name": "python3"
  },
  "language_info": {
   "codemirror_mode": {
    "name": "ipython",
    "version": 3
   },
   "file_extension": ".py",
   "mimetype": "text/x-python",
   "name": "python",
   "nbconvert_exporter": "python",
   "pygments_lexer": "ipython3",
   "version": "3.6.2"
  }
 },
 "nbformat": 4,
 "nbformat_minor": 2
}
